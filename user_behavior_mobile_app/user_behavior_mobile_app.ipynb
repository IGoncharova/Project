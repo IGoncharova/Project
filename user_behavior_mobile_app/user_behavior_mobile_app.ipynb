{
  "cells": [
    {
      "cell_type": "markdown",
      "metadata": {
        "id": "Ui2ovuRj2V-B"
      },
      "source": [
        "# **Анализ пользовательского поведения в мобильном приложении**\n",
        "\n",
        "\n",
        "**Описание проекта**\n",
        "\n",
        "В нашем распоояжения данные от стартапа, который продаёт продукты питания. Нужно разобраться, как ведут себя пользователи их мобильного приложения.\n",
        "\n",
        "Задачи:\n",
        "1. Изучить воронку продаж (Узнать, как пользователи доходят до покупки, Сколько пользователей доходит до покупки, а сколько — «застревает» на предыдущих шагах? На каких именно?).\n",
        "2. Исследовать результаты A/A/B-эксперимента, по смене шрифта во всём приложении.\n",
        "Пользователей разбили на 3 группы: 2 контрольные со старыми шрифтами и одну экспериментальную — с новыми. Выяснить, какой шрифт лучше.\n"
      ]
    },
    {
      "cell_type": "code",
      "execution_count": 1,
      "metadata": {
        "id": "BNtcsUlr2T9a"
      },
      "outputs": [],
      "source": [
        "import pandas as pd\n",
        "import datetime as dt\n",
        "import matplotlib.pyplot as plt\n",
        "import numpy as np\n",
        "import scipy.stats as stats\n",
        "from scipy import stats as st\n",
        "import math as mth\n",
        "from plotly import graph_objects as go"
      ]
    },
    {
      "cell_type": "code",
      "execution_count": 2,
      "metadata": {
        "id": "sJCAxMV2agJc"
      },
      "outputs": [],
      "source": [
        "try:\n",
        "  logs = pd.read_csv('logs_exp.csv', sep='\\t')\n",
        "except:\n",
        "  logs = pd.read_csv('https://code.s3.yandex.net/datasets/logs_exp.csv', sep='\\t')\n"
      ]
    },
    {
      "cell_type": "markdown",
      "metadata": {
        "id": "LgRLXQpxeaNC"
      },
      "source": [
        "##  **Изучение общей информации из имеющихся данных**"
      ]
    },
    {
      "cell_type": "code",
      "execution_count": 3,
      "metadata": {
        "colab": {
          "base_uri": "https://localhost:8080/",
          "height": 206
        },
        "id": "qFJRoBOibOUr",
        "outputId": "15b6c6a4-cb1b-4550-8a9f-1f71d331b402"
      },
      "outputs": [
        {
          "output_type": "display_data",
          "data": {
            "text/plain": [
              "                 EventName         DeviceIDHash  EventTimestamp  ExpId\n",
              "0         MainScreenAppear  4575588528974610257      1564029816    246\n",
              "1         MainScreenAppear  7416695313311560658      1564053102    246\n",
              "2  PaymentScreenSuccessful  3518123091307005509      1564054127    248\n",
              "3         CartScreenAppear  3518123091307005509      1564054127    248\n",
              "4  PaymentScreenSuccessful  6217807653094995999      1564055322    248"
            ],
            "text/html": [
              "\n",
              "  <div id=\"df-6db5e715-e80d-4766-9a0d-8e4b2ff5f2cf\">\n",
              "    <div class=\"colab-df-container\">\n",
              "      <div>\n",
              "<style scoped>\n",
              "    .dataframe tbody tr th:only-of-type {\n",
              "        vertical-align: middle;\n",
              "    }\n",
              "\n",
              "    .dataframe tbody tr th {\n",
              "        vertical-align: top;\n",
              "    }\n",
              "\n",
              "    .dataframe thead th {\n",
              "        text-align: right;\n",
              "    }\n",
              "</style>\n",
              "<table border=\"1\" class=\"dataframe\">\n",
              "  <thead>\n",
              "    <tr style=\"text-align: right;\">\n",
              "      <th></th>\n",
              "      <th>EventName</th>\n",
              "      <th>DeviceIDHash</th>\n",
              "      <th>EventTimestamp</th>\n",
              "      <th>ExpId</th>\n",
              "    </tr>\n",
              "  </thead>\n",
              "  <tbody>\n",
              "    <tr>\n",
              "      <th>0</th>\n",
              "      <td>MainScreenAppear</td>\n",
              "      <td>4575588528974610257</td>\n",
              "      <td>1564029816</td>\n",
              "      <td>246</td>\n",
              "    </tr>\n",
              "    <tr>\n",
              "      <th>1</th>\n",
              "      <td>MainScreenAppear</td>\n",
              "      <td>7416695313311560658</td>\n",
              "      <td>1564053102</td>\n",
              "      <td>246</td>\n",
              "    </tr>\n",
              "    <tr>\n",
              "      <th>2</th>\n",
              "      <td>PaymentScreenSuccessful</td>\n",
              "      <td>3518123091307005509</td>\n",
              "      <td>1564054127</td>\n",
              "      <td>248</td>\n",
              "    </tr>\n",
              "    <tr>\n",
              "      <th>3</th>\n",
              "      <td>CartScreenAppear</td>\n",
              "      <td>3518123091307005509</td>\n",
              "      <td>1564054127</td>\n",
              "      <td>248</td>\n",
              "    </tr>\n",
              "    <tr>\n",
              "      <th>4</th>\n",
              "      <td>PaymentScreenSuccessful</td>\n",
              "      <td>6217807653094995999</td>\n",
              "      <td>1564055322</td>\n",
              "      <td>248</td>\n",
              "    </tr>\n",
              "  </tbody>\n",
              "</table>\n",
              "</div>\n",
              "      <button class=\"colab-df-convert\" onclick=\"convertToInteractive('df-6db5e715-e80d-4766-9a0d-8e4b2ff5f2cf')\"\n",
              "              title=\"Convert this dataframe to an interactive table.\"\n",
              "              style=\"display:none;\">\n",
              "        \n",
              "  <svg xmlns=\"http://www.w3.org/2000/svg\" height=\"24px\"viewBox=\"0 0 24 24\"\n",
              "       width=\"24px\">\n",
              "    <path d=\"M0 0h24v24H0V0z\" fill=\"none\"/>\n",
              "    <path d=\"M18.56 5.44l.94 2.06.94-2.06 2.06-.94-2.06-.94-.94-2.06-.94 2.06-2.06.94zm-11 1L8.5 8.5l.94-2.06 2.06-.94-2.06-.94L8.5 2.5l-.94 2.06-2.06.94zm10 10l.94 2.06.94-2.06 2.06-.94-2.06-.94-.94-2.06-.94 2.06-2.06.94z\"/><path d=\"M17.41 7.96l-1.37-1.37c-.4-.4-.92-.59-1.43-.59-.52 0-1.04.2-1.43.59L10.3 9.45l-7.72 7.72c-.78.78-.78 2.05 0 2.83L4 21.41c.39.39.9.59 1.41.59.51 0 1.02-.2 1.41-.59l7.78-7.78 2.81-2.81c.8-.78.8-2.07 0-2.86zM5.41 20L4 18.59l7.72-7.72 1.47 1.35L5.41 20z\"/>\n",
              "  </svg>\n",
              "      </button>\n",
              "      \n",
              "  <style>\n",
              "    .colab-df-container {\n",
              "      display:flex;\n",
              "      flex-wrap:wrap;\n",
              "      gap: 12px;\n",
              "    }\n",
              "\n",
              "    .colab-df-convert {\n",
              "      background-color: #E8F0FE;\n",
              "      border: none;\n",
              "      border-radius: 50%;\n",
              "      cursor: pointer;\n",
              "      display: none;\n",
              "      fill: #1967D2;\n",
              "      height: 32px;\n",
              "      padding: 0 0 0 0;\n",
              "      width: 32px;\n",
              "    }\n",
              "\n",
              "    .colab-df-convert:hover {\n",
              "      background-color: #E2EBFA;\n",
              "      box-shadow: 0px 1px 2px rgba(60, 64, 67, 0.3), 0px 1px 3px 1px rgba(60, 64, 67, 0.15);\n",
              "      fill: #174EA6;\n",
              "    }\n",
              "\n",
              "    [theme=dark] .colab-df-convert {\n",
              "      background-color: #3B4455;\n",
              "      fill: #D2E3FC;\n",
              "    }\n",
              "\n",
              "    [theme=dark] .colab-df-convert:hover {\n",
              "      background-color: #434B5C;\n",
              "      box-shadow: 0px 1px 3px 1px rgba(0, 0, 0, 0.15);\n",
              "      filter: drop-shadow(0px 1px 2px rgba(0, 0, 0, 0.3));\n",
              "      fill: #FFFFFF;\n",
              "    }\n",
              "  </style>\n",
              "\n",
              "      <script>\n",
              "        const buttonEl =\n",
              "          document.querySelector('#df-6db5e715-e80d-4766-9a0d-8e4b2ff5f2cf button.colab-df-convert');\n",
              "        buttonEl.style.display =\n",
              "          google.colab.kernel.accessAllowed ? 'block' : 'none';\n",
              "\n",
              "        async function convertToInteractive(key) {\n",
              "          const element = document.querySelector('#df-6db5e715-e80d-4766-9a0d-8e4b2ff5f2cf');\n",
              "          const dataTable =\n",
              "            await google.colab.kernel.invokeFunction('convertToInteractive',\n",
              "                                                     [key], {});\n",
              "          if (!dataTable) return;\n",
              "\n",
              "          const docLinkHtml = 'Like what you see? Visit the ' +\n",
              "            '<a target=\"_blank\" href=https://colab.research.google.com/notebooks/data_table.ipynb>data table notebook</a>'\n",
              "            + ' to learn more about interactive tables.';\n",
              "          element.innerHTML = '';\n",
              "          dataTable['output_type'] = 'display_data';\n",
              "          await google.colab.output.renderOutput(dataTable, element);\n",
              "          const docLink = document.createElement('div');\n",
              "          docLink.innerHTML = docLinkHtml;\n",
              "          element.appendChild(docLink);\n",
              "        }\n",
              "      </script>\n",
              "    </div>\n",
              "  </div>\n",
              "  "
            ]
          },
          "metadata": {}
        }
      ],
      "source": [
        "display(logs.head(5))"
      ]
    },
    {
      "cell_type": "code",
      "execution_count": 4,
      "metadata": {
        "colab": {
          "base_uri": "https://localhost:8080/"
        },
        "id": "SXkHHBcvb0GQ",
        "outputId": "eb949d27-ad98-4f44-9c43-d7869b971616"
      },
      "outputs": [
        {
          "output_type": "stream",
          "name": "stdout",
          "text": [
            "<class 'pandas.core.frame.DataFrame'>\n",
            "RangeIndex: 244126 entries, 0 to 244125\n",
            "Data columns (total 4 columns):\n",
            " #   Column          Non-Null Count   Dtype \n",
            "---  ------          --------------   ----- \n",
            " 0   EventName       244126 non-null  object\n",
            " 1   DeviceIDHash    244126 non-null  int64 \n",
            " 2   EventTimestamp  244126 non-null  int64 \n",
            " 3   ExpId           244126 non-null  int64 \n",
            "dtypes: int64(3), object(1)\n",
            "memory usage: 7.5+ MB\n"
          ]
        }
      ],
      "source": [
        "logs.info()"
      ]
    },
    {
      "cell_type": "markdown",
      "metadata": {
        "id": "6ZQcoXHlfHiW"
      },
      "source": [
        "##  **Подготовка данных для анализа**"
      ]
    },
    {
      "cell_type": "markdown",
      "metadata": {
        "id": "OWSE_KlAf6UI"
      },
      "source": [
        "Приведёние названия столбцов к нижнему регистру и хорошему стилю"
      ]
    },
    {
      "cell_type": "code",
      "execution_count": 5,
      "metadata": {
        "id": "eDxezoYUf-gE"
      },
      "outputs": [],
      "source": [
        "logs.rename(columns = {'EventName':'event', 'DeviceIDHash':'user', 'EventTimestamp': 'timestamp', 'ExpId': 'group'}, inplace = True)\n",
        "\n",
        "#display(logs.head(5))"
      ]
    },
    {
      "cell_type": "markdown",
      "metadata": {
        "id": "RYidwu5vpKyr"
      },
      "source": [
        "Преобразуем столбец timestamp в формат даты и времени и создатим ещё дин столбец отдельно с датой события."
      ]
    },
    {
      "cell_type": "code",
      "execution_count": 6,
      "metadata": {
        "colab": {
          "base_uri": "https://localhost:8080/",
          "height": 206
        },
        "id": "O-NzpGwIlJkx",
        "outputId": "d59224e3-4603-4104-bf70-2b6ab56e6f2c"
      },
      "outputs": [
        {
          "output_type": "display_data",
          "data": {
            "text/plain": [
              "                     event                 user           timestamp  group  \\\n",
              "0         MainScreenAppear  4575588528974610257 2019-07-25 04:43:36    246   \n",
              "1         MainScreenAppear  7416695313311560658 2019-07-25 11:11:42    246   \n",
              "2  PaymentScreenSuccessful  3518123091307005509 2019-07-25 11:28:47    248   \n",
              "3         CartScreenAppear  3518123091307005509 2019-07-25 11:28:47    248   \n",
              "4  PaymentScreenSuccessful  6217807653094995999 2019-07-25 11:48:42    248   \n",
              "\n",
              "        date  \n",
              "0 2019-07-25  \n",
              "1 2019-07-25  \n",
              "2 2019-07-25  \n",
              "3 2019-07-25  \n",
              "4 2019-07-25  "
            ],
            "text/html": [
              "\n",
              "  <div id=\"df-721d5051-bb81-40f8-a052-9dc2f78a1cbd\">\n",
              "    <div class=\"colab-df-container\">\n",
              "      <div>\n",
              "<style scoped>\n",
              "    .dataframe tbody tr th:only-of-type {\n",
              "        vertical-align: middle;\n",
              "    }\n",
              "\n",
              "    .dataframe tbody tr th {\n",
              "        vertical-align: top;\n",
              "    }\n",
              "\n",
              "    .dataframe thead th {\n",
              "        text-align: right;\n",
              "    }\n",
              "</style>\n",
              "<table border=\"1\" class=\"dataframe\">\n",
              "  <thead>\n",
              "    <tr style=\"text-align: right;\">\n",
              "      <th></th>\n",
              "      <th>event</th>\n",
              "      <th>user</th>\n",
              "      <th>timestamp</th>\n",
              "      <th>group</th>\n",
              "      <th>date</th>\n",
              "    </tr>\n",
              "  </thead>\n",
              "  <tbody>\n",
              "    <tr>\n",
              "      <th>0</th>\n",
              "      <td>MainScreenAppear</td>\n",
              "      <td>4575588528974610257</td>\n",
              "      <td>2019-07-25 04:43:36</td>\n",
              "      <td>246</td>\n",
              "      <td>2019-07-25</td>\n",
              "    </tr>\n",
              "    <tr>\n",
              "      <th>1</th>\n",
              "      <td>MainScreenAppear</td>\n",
              "      <td>7416695313311560658</td>\n",
              "      <td>2019-07-25 11:11:42</td>\n",
              "      <td>246</td>\n",
              "      <td>2019-07-25</td>\n",
              "    </tr>\n",
              "    <tr>\n",
              "      <th>2</th>\n",
              "      <td>PaymentScreenSuccessful</td>\n",
              "      <td>3518123091307005509</td>\n",
              "      <td>2019-07-25 11:28:47</td>\n",
              "      <td>248</td>\n",
              "      <td>2019-07-25</td>\n",
              "    </tr>\n",
              "    <tr>\n",
              "      <th>3</th>\n",
              "      <td>CartScreenAppear</td>\n",
              "      <td>3518123091307005509</td>\n",
              "      <td>2019-07-25 11:28:47</td>\n",
              "      <td>248</td>\n",
              "      <td>2019-07-25</td>\n",
              "    </tr>\n",
              "    <tr>\n",
              "      <th>4</th>\n",
              "      <td>PaymentScreenSuccessful</td>\n",
              "      <td>6217807653094995999</td>\n",
              "      <td>2019-07-25 11:48:42</td>\n",
              "      <td>248</td>\n",
              "      <td>2019-07-25</td>\n",
              "    </tr>\n",
              "  </tbody>\n",
              "</table>\n",
              "</div>\n",
              "      <button class=\"colab-df-convert\" onclick=\"convertToInteractive('df-721d5051-bb81-40f8-a052-9dc2f78a1cbd')\"\n",
              "              title=\"Convert this dataframe to an interactive table.\"\n",
              "              style=\"display:none;\">\n",
              "        \n",
              "  <svg xmlns=\"http://www.w3.org/2000/svg\" height=\"24px\"viewBox=\"0 0 24 24\"\n",
              "       width=\"24px\">\n",
              "    <path d=\"M0 0h24v24H0V0z\" fill=\"none\"/>\n",
              "    <path d=\"M18.56 5.44l.94 2.06.94-2.06 2.06-.94-2.06-.94-.94-2.06-.94 2.06-2.06.94zm-11 1L8.5 8.5l.94-2.06 2.06-.94-2.06-.94L8.5 2.5l-.94 2.06-2.06.94zm10 10l.94 2.06.94-2.06 2.06-.94-2.06-.94-.94-2.06-.94 2.06-2.06.94z\"/><path d=\"M17.41 7.96l-1.37-1.37c-.4-.4-.92-.59-1.43-.59-.52 0-1.04.2-1.43.59L10.3 9.45l-7.72 7.72c-.78.78-.78 2.05 0 2.83L4 21.41c.39.39.9.59 1.41.59.51 0 1.02-.2 1.41-.59l7.78-7.78 2.81-2.81c.8-.78.8-2.07 0-2.86zM5.41 20L4 18.59l7.72-7.72 1.47 1.35L5.41 20z\"/>\n",
              "  </svg>\n",
              "      </button>\n",
              "      \n",
              "  <style>\n",
              "    .colab-df-container {\n",
              "      display:flex;\n",
              "      flex-wrap:wrap;\n",
              "      gap: 12px;\n",
              "    }\n",
              "\n",
              "    .colab-df-convert {\n",
              "      background-color: #E8F0FE;\n",
              "      border: none;\n",
              "      border-radius: 50%;\n",
              "      cursor: pointer;\n",
              "      display: none;\n",
              "      fill: #1967D2;\n",
              "      height: 32px;\n",
              "      padding: 0 0 0 0;\n",
              "      width: 32px;\n",
              "    }\n",
              "\n",
              "    .colab-df-convert:hover {\n",
              "      background-color: #E2EBFA;\n",
              "      box-shadow: 0px 1px 2px rgba(60, 64, 67, 0.3), 0px 1px 3px 1px rgba(60, 64, 67, 0.15);\n",
              "      fill: #174EA6;\n",
              "    }\n",
              "\n",
              "    [theme=dark] .colab-df-convert {\n",
              "      background-color: #3B4455;\n",
              "      fill: #D2E3FC;\n",
              "    }\n",
              "\n",
              "    [theme=dark] .colab-df-convert:hover {\n",
              "      background-color: #434B5C;\n",
              "      box-shadow: 0px 1px 3px 1px rgba(0, 0, 0, 0.15);\n",
              "      filter: drop-shadow(0px 1px 2px rgba(0, 0, 0, 0.3));\n",
              "      fill: #FFFFFF;\n",
              "    }\n",
              "  </style>\n",
              "\n",
              "      <script>\n",
              "        const buttonEl =\n",
              "          document.querySelector('#df-721d5051-bb81-40f8-a052-9dc2f78a1cbd button.colab-df-convert');\n",
              "        buttonEl.style.display =\n",
              "          google.colab.kernel.accessAllowed ? 'block' : 'none';\n",
              "\n",
              "        async function convertToInteractive(key) {\n",
              "          const element = document.querySelector('#df-721d5051-bb81-40f8-a052-9dc2f78a1cbd');\n",
              "          const dataTable =\n",
              "            await google.colab.kernel.invokeFunction('convertToInteractive',\n",
              "                                                     [key], {});\n",
              "          if (!dataTable) return;\n",
              "\n",
              "          const docLinkHtml = 'Like what you see? Visit the ' +\n",
              "            '<a target=\"_blank\" href=https://colab.research.google.com/notebooks/data_table.ipynb>data table notebook</a>'\n",
              "            + ' to learn more about interactive tables.';\n",
              "          element.innerHTML = '';\n",
              "          dataTable['output_type'] = 'display_data';\n",
              "          await google.colab.output.renderOutput(dataTable, element);\n",
              "          const docLink = document.createElement('div');\n",
              "          docLink.innerHTML = docLinkHtml;\n",
              "          element.appendChild(docLink);\n",
              "        }\n",
              "      </script>\n",
              "    </div>\n",
              "  </div>\n",
              "  "
            ]
          },
          "metadata": {}
        }
      ],
      "source": [
        "logs['timestamp'] = pd.to_datetime(logs['timestamp'], unit = 's')\n",
        "logs['date'] = logs['timestamp'].dt.date\n",
        "logs['date'] = logs['date'].astype('datetime64')\n",
        "display(logs.head(5))"
      ]
    },
    {
      "cell_type": "code",
      "execution_count": 7,
      "metadata": {
        "id": "VYQ7t2PmpNkE"
      },
      "outputs": [],
      "source": [
        "#logs.info()"
      ]
    },
    {
      "cell_type": "markdown",
      "metadata": {
        "id": "2b6zPg5Ebifw"
      },
      "source": [
        "Теперь все форматы соответствуют данным в датафрейме."
      ]
    },
    {
      "cell_type": "markdown",
      "metadata": {
        "id": "GQAao8uyzN5i"
      },
      "source": [
        "Просмотрим названия событий, представленных в данных и оценим их количество."
      ]
    },
    {
      "cell_type": "code",
      "execution_count": 8,
      "metadata": {
        "colab": {
          "base_uri": "https://localhost:8080/"
        },
        "id": "J6eO-mS4yk7r",
        "outputId": "e08836a2-bd54-4017-c767-be0b4ec35ff0"
      },
      "outputs": [
        {
          "output_type": "execute_result",
          "data": {
            "text/plain": [
              "MainScreenAppear           119205\n",
              "OffersScreenAppear          46825\n",
              "CartScreenAppear            42731\n",
              "PaymentScreenSuccessful     34313\n",
              "Tutorial                     1052\n",
              "Name: event, dtype: int64"
            ]
          },
          "metadata": {},
          "execution_count": 8
        }
      ],
      "source": [
        "logs['event'].value_counts()"
      ]
    },
    {
      "cell_type": "markdown",
      "metadata": {
        "id": "dqwPj43-fWhr"
      },
      "source": [
        "Проверка данных на явные дубликаты"
      ]
    },
    {
      "cell_type": "code",
      "execution_count": 9,
      "metadata": {
        "colab": {
          "base_uri": "https://localhost:8080/"
        },
        "id": "JbgfEVVHe61w",
        "outputId": "12858191-c283-4eca-c5e4-7f9a23ee826b"
      },
      "outputs": [
        {
          "output_type": "stream",
          "name": "stdout",
          "text": [
            "Количество дубликатов: 413\n"
          ]
        }
      ],
      "source": [
        "print('Количество дубликатов:', logs.duplicated().sum())"
      ]
    },
    {
      "cell_type": "markdown",
      "metadata": {
        "id": "G624R2hLwBP7"
      },
      "source": [
        "Проверка на дубликаты выявила 413 дубликатов. Почистим данные от них."
      ]
    },
    {
      "cell_type": "code",
      "execution_count": 10,
      "metadata": {
        "id": "obOaVLNoxYPP"
      },
      "outputs": [],
      "source": [
        "logs = logs.drop_duplicates().reset_index(drop=True)\n",
        "#logs.info()"
      ]
    },
    {
      "cell_type": "code",
      "execution_count": 11,
      "metadata": {
        "colab": {
          "base_uri": "https://localhost:8080/"
        },
        "id": "cZak4S30favX",
        "outputId": "d9d0abf4-1ce9-49de-96a4-4238cbec45b1"
      },
      "outputs": [
        {
          "output_type": "execute_result",
          "data": {
            "text/plain": [
              "event        0\n",
              "user         0\n",
              "timestamp    0\n",
              "group        0\n",
              "date         0\n",
              "dtype: int64"
            ]
          },
          "metadata": {},
          "execution_count": 11
        }
      ],
      "source": [
        "logs.isna().sum()"
      ]
    },
    {
      "cell_type": "markdown",
      "metadata": {
        "id": "vU87Fn_ZiecS"
      },
      "source": [
        "Пропуски в данных отсутствуют"
      ]
    },
    {
      "cell_type": "markdown",
      "metadata": {
        "id": "rla_h7dOtZjp"
      },
      "source": [
        "Проверим значения в столбце event_date на наличие аномалий и за одно, сгруппировав данные, посмотрим период за который у нас представлены данные."
      ]
    },
    {
      "cell_type": "code",
      "execution_count": 12,
      "metadata": {
        "colab": {
          "base_uri": "https://localhost:8080/",
          "height": 175
        },
        "id": "v-pzcgjZj0Co",
        "outputId": "22c7f4c8-3377-4c5f-dcc6-9cd9bb90f8e5"
      },
      "outputs": [
        {
          "output_type": "execute_result",
          "data": {
            "text/plain": [
              "        min_date   max_date\n",
              "group                      \n",
              "246   2019-07-25 2019-08-07\n",
              "247   2019-07-25 2019-08-07\n",
              "248   2019-07-25 2019-08-07"
            ],
            "text/html": [
              "\n",
              "  <div id=\"df-2fbc8fa2-f768-4999-97cc-74b1df9f278e\">\n",
              "    <div class=\"colab-df-container\">\n",
              "      <div>\n",
              "<style scoped>\n",
              "    .dataframe tbody tr th:only-of-type {\n",
              "        vertical-align: middle;\n",
              "    }\n",
              "\n",
              "    .dataframe tbody tr th {\n",
              "        vertical-align: top;\n",
              "    }\n",
              "\n",
              "    .dataframe thead th {\n",
              "        text-align: right;\n",
              "    }\n",
              "</style>\n",
              "<table border=\"1\" class=\"dataframe\">\n",
              "  <thead>\n",
              "    <tr style=\"text-align: right;\">\n",
              "      <th></th>\n",
              "      <th>min_date</th>\n",
              "      <th>max_date</th>\n",
              "    </tr>\n",
              "    <tr>\n",
              "      <th>group</th>\n",
              "      <th></th>\n",
              "      <th></th>\n",
              "    </tr>\n",
              "  </thead>\n",
              "  <tbody>\n",
              "    <tr>\n",
              "      <th>246</th>\n",
              "      <td>2019-07-25</td>\n",
              "      <td>2019-08-07</td>\n",
              "    </tr>\n",
              "    <tr>\n",
              "      <th>247</th>\n",
              "      <td>2019-07-25</td>\n",
              "      <td>2019-08-07</td>\n",
              "    </tr>\n",
              "    <tr>\n",
              "      <th>248</th>\n",
              "      <td>2019-07-25</td>\n",
              "      <td>2019-08-07</td>\n",
              "    </tr>\n",
              "  </tbody>\n",
              "</table>\n",
              "</div>\n",
              "      <button class=\"colab-df-convert\" onclick=\"convertToInteractive('df-2fbc8fa2-f768-4999-97cc-74b1df9f278e')\"\n",
              "              title=\"Convert this dataframe to an interactive table.\"\n",
              "              style=\"display:none;\">\n",
              "        \n",
              "  <svg xmlns=\"http://www.w3.org/2000/svg\" height=\"24px\"viewBox=\"0 0 24 24\"\n",
              "       width=\"24px\">\n",
              "    <path d=\"M0 0h24v24H0V0z\" fill=\"none\"/>\n",
              "    <path d=\"M18.56 5.44l.94 2.06.94-2.06 2.06-.94-2.06-.94-.94-2.06-.94 2.06-2.06.94zm-11 1L8.5 8.5l.94-2.06 2.06-.94-2.06-.94L8.5 2.5l-.94 2.06-2.06.94zm10 10l.94 2.06.94-2.06 2.06-.94-2.06-.94-.94-2.06-.94 2.06-2.06.94z\"/><path d=\"M17.41 7.96l-1.37-1.37c-.4-.4-.92-.59-1.43-.59-.52 0-1.04.2-1.43.59L10.3 9.45l-7.72 7.72c-.78.78-.78 2.05 0 2.83L4 21.41c.39.39.9.59 1.41.59.51 0 1.02-.2 1.41-.59l7.78-7.78 2.81-2.81c.8-.78.8-2.07 0-2.86zM5.41 20L4 18.59l7.72-7.72 1.47 1.35L5.41 20z\"/>\n",
              "  </svg>\n",
              "      </button>\n",
              "      \n",
              "  <style>\n",
              "    .colab-df-container {\n",
              "      display:flex;\n",
              "      flex-wrap:wrap;\n",
              "      gap: 12px;\n",
              "    }\n",
              "\n",
              "    .colab-df-convert {\n",
              "      background-color: #E8F0FE;\n",
              "      border: none;\n",
              "      border-radius: 50%;\n",
              "      cursor: pointer;\n",
              "      display: none;\n",
              "      fill: #1967D2;\n",
              "      height: 32px;\n",
              "      padding: 0 0 0 0;\n",
              "      width: 32px;\n",
              "    }\n",
              "\n",
              "    .colab-df-convert:hover {\n",
              "      background-color: #E2EBFA;\n",
              "      box-shadow: 0px 1px 2px rgba(60, 64, 67, 0.3), 0px 1px 3px 1px rgba(60, 64, 67, 0.15);\n",
              "      fill: #174EA6;\n",
              "    }\n",
              "\n",
              "    [theme=dark] .colab-df-convert {\n",
              "      background-color: #3B4455;\n",
              "      fill: #D2E3FC;\n",
              "    }\n",
              "\n",
              "    [theme=dark] .colab-df-convert:hover {\n",
              "      background-color: #434B5C;\n",
              "      box-shadow: 0px 1px 3px 1px rgba(0, 0, 0, 0.15);\n",
              "      filter: drop-shadow(0px 1px 2px rgba(0, 0, 0, 0.3));\n",
              "      fill: #FFFFFF;\n",
              "    }\n",
              "  </style>\n",
              "\n",
              "      <script>\n",
              "        const buttonEl =\n",
              "          document.querySelector('#df-2fbc8fa2-f768-4999-97cc-74b1df9f278e button.colab-df-convert');\n",
              "        buttonEl.style.display =\n",
              "          google.colab.kernel.accessAllowed ? 'block' : 'none';\n",
              "\n",
              "        async function convertToInteractive(key) {\n",
              "          const element = document.querySelector('#df-2fbc8fa2-f768-4999-97cc-74b1df9f278e');\n",
              "          const dataTable =\n",
              "            await google.colab.kernel.invokeFunction('convertToInteractive',\n",
              "                                                     [key], {});\n",
              "          if (!dataTable) return;\n",
              "\n",
              "          const docLinkHtml = 'Like what you see? Visit the ' +\n",
              "            '<a target=\"_blank\" href=https://colab.research.google.com/notebooks/data_table.ipynb>data table notebook</a>'\n",
              "            + ' to learn more about interactive tables.';\n",
              "          element.innerHTML = '';\n",
              "          dataTable['output_type'] = 'display_data';\n",
              "          await google.colab.output.renderOutput(dataTable, element);\n",
              "          const docLink = document.createElement('div');\n",
              "          docLink.innerHTML = docLinkHtml;\n",
              "          element.appendChild(docLink);\n",
              "        }\n",
              "      </script>\n",
              "    </div>\n",
              "  </div>\n",
              "  "
            ]
          },
          "metadata": {},
          "execution_count": 12
        }
      ],
      "source": [
        "logs.groupby('group').agg(\n",
        "    min_date = ('date', 'min'),\n",
        "    max_date = ('date', 'max')\n",
        ")"
      ]
    },
    {
      "cell_type": "markdown",
      "metadata": {
        "id": "eS3QQhMhuJf-"
      },
      "source": [
        "Аномальные значения отсутствуют, как и указано в ТЗ в данных присутствуют только эксперименты 246 и 247 (контрольные группы) и 248 (экспериментальная).\n",
        "Данные по всем группам представлены в одном и том же временном периоде - с 25.07.2019 по 07.08.2019"
      ]
    },
    {
      "cell_type": "markdown",
      "metadata": {
        "id": "7ZweGDZ7zsKe"
      },
      "source": [
        "### ***Вывод по разделу Изучение общей информации из имеющихся данных***\n",
        "\n",
        "1. Данные в файле представлены за период с 25.07.2019 по 07.08.2019.\n",
        "2. Названия столбцов переименованы в более удобные и приведены к хорошему стилю.\n",
        "3. Произведена смена типов данных в столбце о дате и времени, добавлен дополнительный столбец содержащий только дату события.\n",
        "4. Выявлены 413 дубликатов, данные очищены от них.\n",
        "\n",
        "Работа по предобработке данных завершена, данные подготовлены к дальнейшему анализу."
      ]
    },
    {
      "cell_type": "markdown",
      "metadata": {
        "id": "JGCyuMTc4gAt"
      },
      "source": [
        "## **Изучение и проверка данных**\n"
      ]
    },
    {
      "cell_type": "markdown",
      "metadata": {
        "id": "2p0AsRb65ZHL"
      },
      "source": [
        "Просмотрим сколько событий в логе и посчитаем количество каждого события."
      ]
    },
    {
      "cell_type": "code",
      "execution_count": 13,
      "metadata": {
        "colab": {
          "base_uri": "https://localhost:8080/"
        },
        "id": "vRfwEuC7tMeo",
        "outputId": "42d12956-4cef-4e93-fb52-90eac1dda2d2"
      },
      "outputs": [
        {
          "output_type": "execute_result",
          "data": {
            "text/plain": [
              "MainScreenAppear           119101\n",
              "OffersScreenAppear          46808\n",
              "CartScreenAppear            42668\n",
              "PaymentScreenSuccessful     34118\n",
              "Tutorial                     1018\n",
              "Name: event, dtype: int64"
            ]
          },
          "metadata": {},
          "execution_count": 13
        }
      ],
      "source": [
        "logs['event'].value_counts()"
      ]
    },
    {
      "cell_type": "code",
      "execution_count": 14,
      "metadata": {
        "colab": {
          "base_uri": "https://localhost:8080/"
        },
        "id": "41KF0JgGkFqj",
        "outputId": "a76c313a-8778-4020-9652-902239fce986"
      },
      "outputs": [
        {
          "output_type": "stream",
          "name": "stdout",
          "text": [
            "Всего событий в логе: 243713\n"
          ]
        }
      ],
      "source": [
        "event_counts = logs['event'].value_counts().sum()\n",
        "print('Всего событий в логе:',  event_counts)"
      ]
    },
    {
      "cell_type": "markdown",
      "metadata": {
        "id": "e5soCH1351fs"
      },
      "source": [
        "Так же посмотрим сколько всего пользователей в логе."
      ]
    },
    {
      "cell_type": "code",
      "execution_count": 15,
      "metadata": {
        "colab": {
          "base_uri": "https://localhost:8080/"
        },
        "id": "VqcFMlsO5w_X",
        "outputId": "2cdf741d-0896-43b1-cf93-fa9d7d3ec19c"
      },
      "outputs": [
        {
          "output_type": "stream",
          "name": "stdout",
          "text": [
            "Количество пользователей в логе: 7551\n"
          ]
        }
      ],
      "source": [
        "user_counts = logs['user'].nunique()\n",
        "print('Количество пользователей в логе:', user_counts)"
      ]
    },
    {
      "cell_type": "markdown",
      "metadata": {
        "id": "dmwk6BK76Oju"
      },
      "source": [
        "Оценим сколько в среднем событий приходится на пользователя."
      ]
    },
    {
      "cell_type": "code",
      "execution_count": 16,
      "metadata": {
        "colab": {
          "base_uri": "https://localhost:8080/"
        },
        "id": "xx2_zB_Q6J2P",
        "outputId": "65372eb3-aebb-4e88-b026-11c685ab4204"
      },
      "outputs": [
        {
          "output_type": "stream",
          "name": "stdout",
          "text": [
            "Среднее число событий на пользователя: 32.28\n"
          ]
        }
      ],
      "source": [
        "print('Среднее число событий на пользователя:', (logs.groupby('user')['event'].agg('count').mean()).round(2))"
      ]
    },
    {
      "cell_type": "markdown",
      "metadata": {
        "id": "WNjU5x3w-_b9"
      },
      "source": [
        "Ранее мы определили период за который присутствуют даные в файле, это:\n",
        "\n",
        "min дата - 25.07.2019\n",
        "\n",
        "max дата - 07.08.2019"
      ]
    },
    {
      "cell_type": "code",
      "execution_count": 17,
      "metadata": {
        "colab": {
          "base_uri": "https://localhost:8080/",
          "height": 538
        },
        "id": "xrSpeBjU6ng8",
        "outputId": "39bb313c-6cc0-4860-d020-0a9f110caec5"
      },
      "outputs": [
        {
          "output_type": "display_data",
          "data": {
            "text/plain": [
              "<Figure size 640x480 with 1 Axes>"
            ],
            "image/png": "[encoded data removed]"
          },
          "metadata": {}
        }
      ],
      "source": [
        "\n",
        "plt.hist(logs['timestamp'])\n",
        "plt.xticks(rotation=90)\n",
        "plt.xlabel('Дата')\n",
        "plt.ylabel('Кол-во событий')\n",
        "plt.title('Распреление событий по дате')\n",
        "plt.show ()"
      ]
    },
    {
      "cell_type": "markdown",
      "metadata": {
        "id": "Bq8eL93lBf8N"
      },
      "source": [
        "Из гистограммы виден перекос по данным. Основная часть данных присутствует за период с 01.08.2019 по 07.08.2019.\n",
        "Таким образом данные полные только за этот период, всё что ранее 01.08.2019г решено отбросить."
      ]
    },
    {
      "cell_type": "code",
      "execution_count": 18,
      "metadata": {
        "id": "e1X9JsdKEH3W"
      },
      "outputs": [],
      "source": [
        "logs=logs.query('date >= \"2019-08-01\"')\n",
        "#display(logs_1.head(10))\n"
      ]
    },
    {
      "cell_type": "code",
      "execution_count": 19,
      "metadata": {
        "colab": {
          "base_uri": "https://localhost:8080/"
        },
        "id": "N3PkfHzjgyxg",
        "outputId": "b47e7234-23c5-46d5-c71c-97f4c2902bd8"
      },
      "outputs": [
        {
          "output_type": "stream",
          "name": "stdout",
          "text": [
            "Всего событий в логе: 240887\n",
            "Количество пользователей в логе: 7534\n"
          ]
        }
      ],
      "source": [
        "\n",
        "event_counts_new = logs['event'].value_counts().sum()\n",
        "print('Всего событий в логе:',  event_counts_new)\n",
        "\n",
        "user_counts_new = logs['user'].nunique()\n",
        "print('Количество пользователей в логе:', user_counts_new)"
      ]
    },
    {
      "cell_type": "markdown",
      "metadata": {
        "id": "POQMe0qN9bqh"
      },
      "source": [
        "Обновим расчет среднего числа событий на пользователя по обновленным данным."
      ]
    },
    {
      "cell_type": "code",
      "execution_count": 20,
      "metadata": {
        "colab": {
          "base_uri": "https://localhost:8080/"
        },
        "id": "25nkDLD19Xrl",
        "outputId": "bd7f18ed-84d6-4301-d350-46ae8258ee65"
      },
      "outputs": [
        {
          "output_type": "stream",
          "name": "stdout",
          "text": [
            "Среднее число событий на пользователя: 31.97\n"
          ]
        }
      ],
      "source": [
        "print('Среднее число событий на пользователя:', (logs.groupby('user')['event'].agg('count').mean()).round(2))"
      ]
    },
    {
      "cell_type": "markdown",
      "metadata": {
        "id": "V2kEWZnryTnq"
      },
      "source": [
        "Посмотрим, много ли событий и пользователей мы потеряли, отбросив старые данные."
      ]
    },
    {
      "cell_type": "code",
      "execution_count": 21,
      "metadata": {
        "colab": {
          "base_uri": "https://localhost:8080/",
          "height": 112
        },
        "id": "Ti3bGoe0lK7X",
        "outputId": "7b31bd5f-1925-4563-e98c-75105eefe242"
      },
      "outputs": [
        {
          "output_type": "display_data",
          "data": {
            "text/plain": [
              "           name  before   after  difference  share\n",
              "0  event_counts  243713  240887        2826  1.16%\n",
              "1   user_counts    7551    7534          17  0.23%"
            ],
            "text/html": [
              "\n",
              "  <div id=\"df-155b8c16-258b-4241-8714-87a77539ae15\">\n",
              "    <div class=\"colab-df-container\">\n",
              "      <div>\n",
              "<style scoped>\n",
              "    .dataframe tbody tr th:only-of-type {\n",
              "        vertical-align: middle;\n",
              "    }\n",
              "\n",
              "    .dataframe tbody tr th {\n",
              "        vertical-align: top;\n",
              "    }\n",
              "\n",
              "    .dataframe thead th {\n",
              "        text-align: right;\n",
              "    }\n",
              "</style>\n",
              "<table border=\"1\" class=\"dataframe\">\n",
              "  <thead>\n",
              "    <tr style=\"text-align: right;\">\n",
              "      <th></th>\n",
              "      <th>name</th>\n",
              "      <th>before</th>\n",
              "      <th>after</th>\n",
              "      <th>difference</th>\n",
              "      <th>share</th>\n",
              "    </tr>\n",
              "  </thead>\n",
              "  <tbody>\n",
              "    <tr>\n",
              "      <th>0</th>\n",
              "      <td>event_counts</td>\n",
              "      <td>243713</td>\n",
              "      <td>240887</td>\n",
              "      <td>2826</td>\n",
              "      <td>1.16%</td>\n",
              "    </tr>\n",
              "    <tr>\n",
              "      <th>1</th>\n",
              "      <td>user_counts</td>\n",
              "      <td>7551</td>\n",
              "      <td>7534</td>\n",
              "      <td>17</td>\n",
              "      <td>0.23%</td>\n",
              "    </tr>\n",
              "  </tbody>\n",
              "</table>\n",
              "</div>\n",
              "      <button class=\"colab-df-convert\" onclick=\"convertToInteractive('df-155b8c16-258b-4241-8714-87a77539ae15')\"\n",
              "              title=\"Convert this dataframe to an interactive table.\"\n",
              "              style=\"display:none;\">\n",
              "        \n",
              "  <svg xmlns=\"http://www.w3.org/2000/svg\" height=\"24px\"viewBox=\"0 0 24 24\"\n",
              "       width=\"24px\">\n",
              "    <path d=\"M0 0h24v24H0V0z\" fill=\"none\"/>\n",
              "    <path d=\"M18.56 5.44l.94 2.06.94-2.06 2.06-.94-2.06-.94-.94-2.06-.94 2.06-2.06.94zm-11 1L8.5 8.5l.94-2.06 2.06-.94-2.06-.94L8.5 2.5l-.94 2.06-2.06.94zm10 10l.94 2.06.94-2.06 2.06-.94-2.06-.94-.94-2.06-.94 2.06-2.06.94z\"/><path d=\"M17.41 7.96l-1.37-1.37c-.4-.4-.92-.59-1.43-.59-.52 0-1.04.2-1.43.59L10.3 9.45l-7.72 7.72c-.78.78-.78 2.05 0 2.83L4 21.41c.39.39.9.59 1.41.59.51 0 1.02-.2 1.41-.59l7.78-7.78 2.81-2.81c.8-.78.8-2.07 0-2.86zM5.41 20L4 18.59l7.72-7.72 1.47 1.35L5.41 20z\"/>\n",
              "  </svg>\n",
              "      </button>\n",
              "      \n",
              "  <style>\n",
              "    .colab-df-container {\n",
              "      display:flex;\n",
              "      flex-wrap:wrap;\n",
              "      gap: 12px;\n",
              "    }\n",
              "\n",
              "    .colab-df-convert {\n",
              "      background-color: #E8F0FE;\n",
              "      border: none;\n",
              "      border-radius: 50%;\n",
              "      cursor: pointer;\n",
              "      display: none;\n",
              "      fill: #1967D2;\n",
              "      height: 32px;\n",
              "      padding: 0 0 0 0;\n",
              "      width: 32px;\n",
              "    }\n",
              "\n",
              "    .colab-df-convert:hover {\n",
              "      background-color: #E2EBFA;\n",
              "      box-shadow: 0px 1px 2px rgba(60, 64, 67, 0.3), 0px 1px 3px 1px rgba(60, 64, 67, 0.15);\n",
              "      fill: #174EA6;\n",
              "    }\n",
              "\n",
              "    [theme=dark] .colab-df-convert {\n",
              "      background-color: #3B4455;\n",
              "      fill: #D2E3FC;\n",
              "    }\n",
              "\n",
              "    [theme=dark] .colab-df-convert:hover {\n",
              "      background-color: #434B5C;\n",
              "      box-shadow: 0px 1px 3px 1px rgba(0, 0, 0, 0.15);\n",
              "      filter: drop-shadow(0px 1px 2px rgba(0, 0, 0, 0.3));\n",
              "      fill: #FFFFFF;\n",
              "    }\n",
              "  </style>\n",
              "\n",
              "      <script>\n",
              "        const buttonEl =\n",
              "          document.querySelector('#df-155b8c16-258b-4241-8714-87a77539ae15 button.colab-df-convert');\n",
              "        buttonEl.style.display =\n",
              "          google.colab.kernel.accessAllowed ? 'block' : 'none';\n",
              "\n",
              "        async function convertToInteractive(key) {\n",
              "          const element = document.querySelector('#df-155b8c16-258b-4241-8714-87a77539ae15');\n",
              "          const dataTable =\n",
              "            await google.colab.kernel.invokeFunction('convertToInteractive',\n",
              "                                                     [key], {});\n",
              "          if (!dataTable) return;\n",
              "\n",
              "          const docLinkHtml = 'Like what you see? Visit the ' +\n",
              "            '<a target=\"_blank\" href=https://colab.research.google.com/notebooks/data_table.ipynb>data table notebook</a>'\n",
              "            + ' to learn more about interactive tables.';\n",
              "          element.innerHTML = '';\n",
              "          dataTable['output_type'] = 'display_data';\n",
              "          await google.colab.output.renderOutput(dataTable, element);\n",
              "          const docLink = document.createElement('div');\n",
              "          docLink.innerHTML = docLinkHtml;\n",
              "          element.appendChild(docLink);\n",
              "        }\n",
              "      </script>\n",
              "    </div>\n",
              "  </div>\n",
              "  "
            ]
          },
          "metadata": {}
        }
      ],
      "source": [
        "data = {'name': ['event_counts', 'user_counts'], 'before': [event_counts, user_counts ], 'after': [event_counts_new, user_counts_new]}\n",
        "df = pd.DataFrame(data)\n",
        "df['difference']= df['before']-df['after']\n",
        "df['share']=(df['difference']/df['before']).transform(lambda x: '{:,.2%}'.format(x))\n",
        "\n",
        "display(df)\n"
      ]
    },
    {
      "cell_type": "markdown",
      "metadata": {
        "id": "Zsus1gf1yj5V"
      },
      "source": [
        "По данным можно увидеть, что мы потеряли совсем не значительный объем данных, в событиях это 1.16%, в пользователях это 0.23%"
      ]
    },
    {
      "cell_type": "markdown",
      "metadata": {
        "id": "cLCHLSGyznAf"
      },
      "source": [
        "Проверим, что у нас остались пользователи из всех трёх экспериментальных групп.\n"
      ]
    },
    {
      "cell_type": "code",
      "execution_count": 22,
      "metadata": {
        "colab": {
          "base_uri": "https://localhost:8080/"
        },
        "id": "PWnyZAVtrFxv",
        "outputId": "01c459ed-4406-4331-ba3f-e3660da4bdbd"
      },
      "outputs": [
        {
          "output_type": "execute_result",
          "data": {
            "text/plain": [
              "group\n",
              "246    2484\n",
              "247    2513\n",
              "248    2537\n",
              "Name: user, dtype: int64"
            ]
          },
          "metadata": {},
          "execution_count": 22
        }
      ],
      "source": [
        "logs.groupby('group')['user'].nunique()"
      ]
    },
    {
      "cell_type": "markdown",
      "metadata": {
        "id": "j82i2Bh40L5y"
      },
      "source": [
        "Всё на месте."
      ]
    },
    {
      "cell_type": "markdown",
      "metadata": {
        "id": "w9D0xJxn0zfF"
      },
      "source": [
        "Убедимся что все пользоатели в группах не пересекаются, пользователь попавший в одну из групп остаётся в этой группе до конца теста."
      ]
    },
    {
      "cell_type": "code",
      "execution_count": 23,
      "metadata": {
        "colab": {
          "base_uri": "https://localhost:8080/"
        },
        "id": "yqgxP4hA2YHS",
        "outputId": "70fdd95c-4e95-4234-eec4-fdf79e3aa7a1"
      },
      "outputs": [
        {
          "output_type": "stream",
          "name": "stdout",
          "text": [
            "Количество пересекающихся пользователей : 0\n"
          ]
        }
      ],
      "source": [
        "# выделили клиентов, попавших более чем в одну группу\n",
        "user_duplicates = logs.groupby('user').agg({'group' : 'nunique'}).reset_index().query('group>1')['user']\n",
        "print('Количество пересекающихся пользователей :', user_duplicates.count())"
      ]
    },
    {
      "cell_type": "markdown",
      "metadata": {
        "id": "vGgLYxj84YRY"
      },
      "source": [
        "### ***Вывод по разделу Изучение и проверка данных***\n",
        "\n",
        "1. Не за весь период в логе присутсвовали одинаково полные данные, решено отбросить часть данных, что бы не было перекоса. Отброшенные данные составили около 1%.\n",
        "В итоге теперь мы располагаем данными за период с 01.08.2019 по 07.08.2019г.\n",
        "2. После очищения данных:\n",
        " - количество событий в логе - 240887;\n",
        " - количество пользователей - 7534;\n",
        " - среднее количество событий на пользователя 31.97\n",
        "3. Пользователи, присутсвующие сразу в нескольких экпериментальных группах не выявлены.\n"
      ]
    },
    {
      "cell_type": "markdown",
      "metadata": {
        "id": "SqLqDpfcVRAX"
      },
      "source": [
        "## **Изучение воронки событий**"
      ]
    },
    {
      "cell_type": "markdown",
      "metadata": {
        "id": "ocOGfzL3V0-O"
      },
      "source": [
        "Посмотрим, какие события есть в логах и как часто они встречаются.\n"
      ]
    },
    {
      "cell_type": "code",
      "execution_count": 24,
      "metadata": {
        "colab": {
          "base_uri": "https://localhost:8080/"
        },
        "id": "I3evuR7_3o2C",
        "outputId": "16872eed-63c7-4cff-a175-38eaa589f746"
      },
      "outputs": [
        {
          "output_type": "execute_result",
          "data": {
            "text/plain": [
              "MainScreenAppear           117328\n",
              "OffersScreenAppear          46333\n",
              "CartScreenAppear            42303\n",
              "PaymentScreenSuccessful     33918\n",
              "Tutorial                     1005\n",
              "Name: event, dtype: int64"
            ]
          },
          "metadata": {},
          "execution_count": 24
        }
      ],
      "source": [
        "logs['event'].value_counts()"
      ]
    },
    {
      "cell_type": "markdown",
      "metadata": {
        "id": "d0Uh8Q84va7W"
      },
      "source": [
        "\n",
        "MainScreenAppear - Появление главного экрана\n",
        "\n",
        "OffersScreenAppear - Появление экрана предложений\n",
        "\n",
        "CartScreenAppear - Появление экрана корзины\n",
        "\n",
        "PaymentScreenSuccessful - Появление экрана Успешный платёж\n",
        "\n",
        "Tutorial - Руководство пользователя"
      ]
    },
    {
      "cell_type": "markdown",
      "metadata": {
        "id": "G8LGDLGLWmY1"
      },
      "source": [
        "Посчитаем, сколько пользователей совершали каждое из этих событий.\n",
        "\n",
        "А так же посчитаем долю пользователей, которые хоть раз совершали событие, конверсию и конверсию в шаг.\n",
        "\n",
        "Оценим долю пользователей которые доходят от первого события до оплаты.\n"
      ]
    },
    {
      "cell_type": "code",
      "execution_count": 25,
      "metadata": {
        "colab": {
          "base_uri": "https://localhost:8080/",
          "height": 206
        },
        "id": "vh3wKnkpneiG",
        "outputId": "09f68191-a677-4fef-ba58-a94125d90caf"
      },
      "outputs": [
        {
          "output_type": "execute_result",
          "data": {
            "text/plain": [
              "                     event  users conversion conversion_per_step\n",
              "0         MainScreenAppear   7419     98.47%                nan%\n",
              "1       OffersScreenAppear   4593     60.96%              61.91%\n",
              "2         CartScreenAppear   3734     49.56%              81.30%\n",
              "3  PaymentScreenSuccessful   3539     46.97%              94.78%\n",
              "4                 Tutorial    840     11.15%              23.74%"
            ],
            "text/html": [
              "\n",
              "  <div id=\"df-bd60d228-f4ce-4608-964d-7a4631f811b2\">\n",
              "    <div class=\"colab-df-container\">\n",
              "      <div>\n",
              "<style scoped>\n",
              "    .dataframe tbody tr th:only-of-type {\n",
              "        vertical-align: middle;\n",
              "    }\n",
              "\n",
              "    .dataframe tbody tr th {\n",
              "        vertical-align: top;\n",
              "    }\n",
              "\n",
              "    .dataframe thead th {\n",
              "        text-align: right;\n",
              "    }\n",
              "</style>\n",
              "<table border=\"1\" class=\"dataframe\">\n",
              "  <thead>\n",
              "    <tr style=\"text-align: right;\">\n",
              "      <th></th>\n",
              "      <th>event</th>\n",
              "      <th>users</th>\n",
              "      <th>conversion</th>\n",
              "      <th>conversion_per_step</th>\n",
              "    </tr>\n",
              "  </thead>\n",
              "  <tbody>\n",
              "    <tr>\n",
              "      <th>0</th>\n",
              "      <td>MainScreenAppear</td>\n",
              "      <td>7419</td>\n",
              "      <td>98.47%</td>\n",
              "      <td>nan%</td>\n",
              "    </tr>\n",
              "    <tr>\n",
              "      <th>1</th>\n",
              "      <td>OffersScreenAppear</td>\n",
              "      <td>4593</td>\n",
              "      <td>60.96%</td>\n",
              "      <td>61.91%</td>\n",
              "    </tr>\n",
              "    <tr>\n",
              "      <th>2</th>\n",
              "      <td>CartScreenAppear</td>\n",
              "      <td>3734</td>\n",
              "      <td>49.56%</td>\n",
              "      <td>81.30%</td>\n",
              "    </tr>\n",
              "    <tr>\n",
              "      <th>3</th>\n",
              "      <td>PaymentScreenSuccessful</td>\n",
              "      <td>3539</td>\n",
              "      <td>46.97%</td>\n",
              "      <td>94.78%</td>\n",
              "    </tr>\n",
              "    <tr>\n",
              "      <th>4</th>\n",
              "      <td>Tutorial</td>\n",
              "      <td>840</td>\n",
              "      <td>11.15%</td>\n",
              "      <td>23.74%</td>\n",
              "    </tr>\n",
              "  </tbody>\n",
              "</table>\n",
              "</div>\n",
              "      <button class=\"colab-df-convert\" onclick=\"convertToInteractive('df-bd60d228-f4ce-4608-964d-7a4631f811b2')\"\n",
              "              title=\"Convert this dataframe to an interactive table.\"\n",
              "              style=\"display:none;\">\n",
              "        \n",
              "  <svg xmlns=\"http://www.w3.org/2000/svg\" height=\"24px\"viewBox=\"0 0 24 24\"\n",
              "       width=\"24px\">\n",
              "    <path d=\"M0 0h24v24H0V0z\" fill=\"none\"/>\n",
              "    <path d=\"M18.56 5.44l.94 2.06.94-2.06 2.06-.94-2.06-.94-.94-2.06-.94 2.06-2.06.94zm-11 1L8.5 8.5l.94-2.06 2.06-.94-2.06-.94L8.5 2.5l-.94 2.06-2.06.94zm10 10l.94 2.06.94-2.06 2.06-.94-2.06-.94-.94-2.06-.94 2.06-2.06.94z\"/><path d=\"M17.41 7.96l-1.37-1.37c-.4-.4-.92-.59-1.43-.59-.52 0-1.04.2-1.43.59L10.3 9.45l-7.72 7.72c-.78.78-.78 2.05 0 2.83L4 21.41c.39.39.9.59 1.41.59.51 0 1.02-.2 1.41-.59l7.78-7.78 2.81-2.81c.8-.78.8-2.07 0-2.86zM5.41 20L4 18.59l7.72-7.72 1.47 1.35L5.41 20z\"/>\n",
              "  </svg>\n",
              "      </button>\n",
              "      \n",
              "  <style>\n",
              "    .colab-df-container {\n",
              "      display:flex;\n",
              "      flex-wrap:wrap;\n",
              "      gap: 12px;\n",
              "    }\n",
              "\n",
              "    .colab-df-convert {\n",
              "      background-color: #E8F0FE;\n",
              "      border: none;\n",
              "      border-radius: 50%;\n",
              "      cursor: pointer;\n",
              "      display: none;\n",
              "      fill: #1967D2;\n",
              "      height: 32px;\n",
              "      padding: 0 0 0 0;\n",
              "      width: 32px;\n",
              "    }\n",
              "\n",
              "    .colab-df-convert:hover {\n",
              "      background-color: #E2EBFA;\n",
              "      box-shadow: 0px 1px 2px rgba(60, 64, 67, 0.3), 0px 1px 3px 1px rgba(60, 64, 67, 0.15);\n",
              "      fill: #174EA6;\n",
              "    }\n",
              "\n",
              "    [theme=dark] .colab-df-convert {\n",
              "      background-color: #3B4455;\n",
              "      fill: #D2E3FC;\n",
              "    }\n",
              "\n",
              "    [theme=dark] .colab-df-convert:hover {\n",
              "      background-color: #434B5C;\n",
              "      box-shadow: 0px 1px 3px 1px rgba(0, 0, 0, 0.15);\n",
              "      filter: drop-shadow(0px 1px 2px rgba(0, 0, 0, 0.3));\n",
              "      fill: #FFFFFF;\n",
              "    }\n",
              "  </style>\n",
              "\n",
              "      <script>\n",
              "        const buttonEl =\n",
              "          document.querySelector('#df-bd60d228-f4ce-4608-964d-7a4631f811b2 button.colab-df-convert');\n",
              "        buttonEl.style.display =\n",
              "          google.colab.kernel.accessAllowed ? 'block' : 'none';\n",
              "\n",
              "        async function convertToInteractive(key) {\n",
              "          const element = document.querySelector('#df-bd60d228-f4ce-4608-964d-7a4631f811b2');\n",
              "          const dataTable =\n",
              "            await google.colab.kernel.invokeFunction('convertToInteractive',\n",
              "                                                     [key], {});\n",
              "          if (!dataTable) return;\n",
              "\n",
              "          const docLinkHtml = 'Like what you see? Visit the ' +\n",
              "            '<a target=\"_blank\" href=https://colab.research.google.com/notebooks/data_table.ipynb>data table notebook</a>'\n",
              "            + ' to learn more about interactive tables.';\n",
              "          element.innerHTML = '';\n",
              "          dataTable['output_type'] = 'display_data';\n",
              "          await google.colab.output.renderOutput(dataTable, element);\n",
              "          const docLink = document.createElement('div');\n",
              "          docLink.innerHTML = docLinkHtml;\n",
              "          element.appendChild(docLink);\n",
              "        }\n",
              "      </script>\n",
              "    </div>\n",
              "  </div>\n",
              "  "
            ]
          },
          "metadata": {},
          "execution_count": 25
        }
      ],
      "source": [
        "events_users = logs.groupby('event').agg({'user':'nunique'}).sort_values(by='user', ascending=False)\n",
        "events_users.columns = ['users']\n",
        "events_users = events_users.reset_index()\n",
        "events_users['conversion'] = (events_users['users'] / logs['user'].nunique()).transform(lambda x: '{:,.2%}'.format(x))\n",
        "events_users['conversion_per_step']= (events_users['users']/(events_users['users'].shift(1))).transform(lambda x: '{:,.2%}'.format(x))\n",
        "events_users"
      ]
    },
    {
      "cell_type": "markdown",
      "metadata": {
        "id": "2ZbevBiR4iLQ"
      },
      "source": [
        "По данным сводной таблицы можно заметить, что событие Tutorial имеет очень маленькую конверсию, и по логике к нему могут обратиться на любом из этапов при необходимости, но делают это редко. Поэтому оно не является частью воронки.\n",
        "\n",
        "Для лучшего восприятия посмотрим визуальный график нашей воронки, предварительно исключив из неё событие Tutorial."
      ]
    },
    {
      "cell_type": "code",
      "execution_count": 26,
      "metadata": {
        "scrolled": true,
        "colab": {
          "base_uri": "https://localhost:8080/",
          "height": 175
        },
        "id": "V5oD1HVg4iLR",
        "outputId": "87d54ac4-332c-43e2-8908-c6c6a6e5f5be"
      },
      "outputs": [
        {
          "output_type": "execute_result",
          "data": {
            "text/plain": [
              "                     event  users conversion conversion_per_step\n",
              "0         MainScreenAppear   7419     98.47%                nan%\n",
              "1       OffersScreenAppear   4593     60.96%              61.91%\n",
              "2         CartScreenAppear   3734     49.56%              81.30%\n",
              "3  PaymentScreenSuccessful   3539     46.97%              94.78%"
            ],
            "text/html": [
              "\n",
              "  <div id=\"df-a2e662e2-f3f1-421a-87c6-18d70be22111\">\n",
              "    <div class=\"colab-df-container\">\n",
              "      <div>\n",
              "<style scoped>\n",
              "    .dataframe tbody tr th:only-of-type {\n",
              "        vertical-align: middle;\n",
              "    }\n",
              "\n",
              "    .dataframe tbody tr th {\n",
              "        vertical-align: top;\n",
              "    }\n",
              "\n",
              "    .dataframe thead th {\n",
              "        text-align: right;\n",
              "    }\n",
              "</style>\n",
              "<table border=\"1\" class=\"dataframe\">\n",
              "  <thead>\n",
              "    <tr style=\"text-align: right;\">\n",
              "      <th></th>\n",
              "      <th>event</th>\n",
              "      <th>users</th>\n",
              "      <th>conversion</th>\n",
              "      <th>conversion_per_step</th>\n",
              "    </tr>\n",
              "  </thead>\n",
              "  <tbody>\n",
              "    <tr>\n",
              "      <th>0</th>\n",
              "      <td>MainScreenAppear</td>\n",
              "      <td>7419</td>\n",
              "      <td>98.47%</td>\n",
              "      <td>nan%</td>\n",
              "    </tr>\n",
              "    <tr>\n",
              "      <th>1</th>\n",
              "      <td>OffersScreenAppear</td>\n",
              "      <td>4593</td>\n",
              "      <td>60.96%</td>\n",
              "      <td>61.91%</td>\n",
              "    </tr>\n",
              "    <tr>\n",
              "      <th>2</th>\n",
              "      <td>CartScreenAppear</td>\n",
              "      <td>3734</td>\n",
              "      <td>49.56%</td>\n",
              "      <td>81.30%</td>\n",
              "    </tr>\n",
              "    <tr>\n",
              "      <th>3</th>\n",
              "      <td>PaymentScreenSuccessful</td>\n",
              "      <td>3539</td>\n",
              "      <td>46.97%</td>\n",
              "      <td>94.78%</td>\n",
              "    </tr>\n",
              "  </tbody>\n",
              "</table>\n",
              "</div>\n",
              "      <button class=\"colab-df-convert\" onclick=\"convertToInteractive('df-a2e662e2-f3f1-421a-87c6-18d70be22111')\"\n",
              "              title=\"Convert this dataframe to an interactive table.\"\n",
              "              style=\"display:none;\">\n",
              "        \n",
              "  <svg xmlns=\"http://www.w3.org/2000/svg\" height=\"24px\"viewBox=\"0 0 24 24\"\n",
              "       width=\"24px\">\n",
              "    <path d=\"M0 0h24v24H0V0z\" fill=\"none\"/>\n",
              "    <path d=\"M18.56 5.44l.94 2.06.94-2.06 2.06-.94-2.06-.94-.94-2.06-.94 2.06-2.06.94zm-11 1L8.5 8.5l.94-2.06 2.06-.94-2.06-.94L8.5 2.5l-.94 2.06-2.06.94zm10 10l.94 2.06.94-2.06 2.06-.94-2.06-.94-.94-2.06-.94 2.06-2.06.94z\"/><path d=\"M17.41 7.96l-1.37-1.37c-.4-.4-.92-.59-1.43-.59-.52 0-1.04.2-1.43.59L10.3 9.45l-7.72 7.72c-.78.78-.78 2.05 0 2.83L4 21.41c.39.39.9.59 1.41.59.51 0 1.02-.2 1.41-.59l7.78-7.78 2.81-2.81c.8-.78.8-2.07 0-2.86zM5.41 20L4 18.59l7.72-7.72 1.47 1.35L5.41 20z\"/>\n",
              "  </svg>\n",
              "      </button>\n",
              "      \n",
              "  <style>\n",
              "    .colab-df-container {\n",
              "      display:flex;\n",
              "      flex-wrap:wrap;\n",
              "      gap: 12px;\n",
              "    }\n",
              "\n",
              "    .colab-df-convert {\n",
              "      background-color: #E8F0FE;\n",
              "      border: none;\n",
              "      border-radius: 50%;\n",
              "      cursor: pointer;\n",
              "      display: none;\n",
              "      fill: #1967D2;\n",
              "      height: 32px;\n",
              "      padding: 0 0 0 0;\n",
              "      width: 32px;\n",
              "    }\n",
              "\n",
              "    .colab-df-convert:hover {\n",
              "      background-color: #E2EBFA;\n",
              "      box-shadow: 0px 1px 2px rgba(60, 64, 67, 0.3), 0px 1px 3px 1px rgba(60, 64, 67, 0.15);\n",
              "      fill: #174EA6;\n",
              "    }\n",
              "\n",
              "    [theme=dark] .colab-df-convert {\n",
              "      background-color: #3B4455;\n",
              "      fill: #D2E3FC;\n",
              "    }\n",
              "\n",
              "    [theme=dark] .colab-df-convert:hover {\n",
              "      background-color: #434B5C;\n",
              "      box-shadow: 0px 1px 3px 1px rgba(0, 0, 0, 0.15);\n",
              "      filter: drop-shadow(0px 1px 2px rgba(0, 0, 0, 0.3));\n",
              "      fill: #FFFFFF;\n",
              "    }\n",
              "  </style>\n",
              "\n",
              "      <script>\n",
              "        const buttonEl =\n",
              "          document.querySelector('#df-a2e662e2-f3f1-421a-87c6-18d70be22111 button.colab-df-convert');\n",
              "        buttonEl.style.display =\n",
              "          google.colab.kernel.accessAllowed ? 'block' : 'none';\n",
              "\n",
              "        async function convertToInteractive(key) {\n",
              "          const element = document.querySelector('#df-a2e662e2-f3f1-421a-87c6-18d70be22111');\n",
              "          const dataTable =\n",
              "            await google.colab.kernel.invokeFunction('convertToInteractive',\n",
              "                                                     [key], {});\n",
              "          if (!dataTable) return;\n",
              "\n",
              "          const docLinkHtml = 'Like what you see? Visit the ' +\n",
              "            '<a target=\"_blank\" href=https://colab.research.google.com/notebooks/data_table.ipynb>data table notebook</a>'\n",
              "            + ' to learn more about interactive tables.';\n",
              "          element.innerHTML = '';\n",
              "          dataTable['output_type'] = 'display_data';\n",
              "          await google.colab.output.renderOutput(dataTable, element);\n",
              "          const docLink = document.createElement('div');\n",
              "          docLink.innerHTML = docLinkHtml;\n",
              "          element.appendChild(docLink);\n",
              "        }\n",
              "      </script>\n",
              "    </div>\n",
              "  </div>\n",
              "  "
            ]
          },
          "metadata": {},
          "execution_count": 26
        }
      ],
      "source": [
        "events_users=events_users.query('event != \"Tutorial\"')\n",
        "events_users"
      ]
    },
    {
      "cell_type": "code",
      "execution_count": 27,
      "metadata": {
        "colab": {
          "base_uri": "https://localhost:8080/",
          "height": 542
        },
        "id": "xrhZQt1q4iLR",
        "outputId": "2703fb97-0f9a-49fc-cbce-3363953da067"
      },
      "outputs": [
        {
          "output_type": "display_data",
          "data": {
            "text/html": [
              "<html>\n",
              "<head><meta charset=\"utf-8\" /></head>\n",
              "<body>\n",
              "    <div>            <script src=\"https://cdnjs.cloudflare.com/ajax/libs/mathjax/2.7.5/MathJax.js?config=TeX-AMS-MML_SVG\"></script><script type=\"text/javascript\">if (window.MathJax && window.MathJax.Hub && window.MathJax.Hub.Config) {window.MathJax.Hub.Config({SVG: {font: \"STIX-Web\"}});}</script>                <script type=\"text/javascript\">window.PlotlyConfig = {MathJaxConfig: 'local'};</script>\n",
              "        <script src=\"https://cdn.plot.ly/plotly-2.18.2.min.js\"></script>                <div id=\"dae2e8ab-3b93-4b1b-ae45-b5cc035fb41a\" class=\"plotly-graph-div\" style=\"height:525px; width:100%;\"></div>            <script type=\"text/javascript\">                                    window.PLOTLYENV=window.PLOTLYENV || {};                                    if (document.getElementById(\"dae2e8ab-3b93-4b1b-ae45-b5cc035fb41a\")) {                    Plotly.newPlot(                        \"dae2e8ab-3b93-4b1b-ae45-b5cc035fb41a\",                        [{\"x\":[7419,4593,3734,3539],\"y\":[\"MainScreenAppear\",\"OffersScreenAppear\",\"CartScreenAppear\",\"PaymentScreenSuccessful\"],\"type\":\"funnel\"}],                        {\"template\":{\"data\":{\"histogram2dcontour\":[{\"type\":\"histogram2dcontour\",\"colorbar\":{\"outlinewidth\":0,\"ticks\":\"\"},\"colorscale\":[[0.0,\"#0d0887\"],[0.1111111111111111,\"#46039f\"],[0.2222222222222222,\"#7201a8\"],[0.3333333333333333,\"#9c179e\"],[0.4444444444444444,\"#bd3786\"],[0.5555555555555556,\"#d8576b\"],[0.6666666666666666,\"#ed7953\"],[0.7777777777777778,\"#fb9f3a\"],[0.8888888888888888,\"#fdca26\"],[1.0,\"#f0f921\"]]}],\"choropleth\":[{\"type\":\"choropleth\",\"colorbar\":{\"outlinewidth\":0,\"ticks\":\"\"}}],\"histogram2d\":[{\"type\":\"histogram2d\",\"colorbar\":{\"outlinewidth\":0,\"ticks\":\"\"},\"colorscale\":[[0.0,\"#0d0887\"],[0.1111111111111111,\"#46039f\"],[0.2222222222222222,\"#7201a8\"],[0.3333333333333333,\"#9c179e\"],[0.4444444444444444,\"#bd3786\"],[0.5555555555555556,\"#d8576b\"],[0.6666666666666666,\"#ed7953\"],[0.7777777777777778,\"#fb9f3a\"],[0.8888888888888888,\"#fdca26\"],[1.0,\"#f0f921\"]]}],\"heatmap\":[{\"type\":\"heatmap\",\"colorbar\":{\"outlinewidth\":0,\"ticks\":\"\"},\"colorscale\":[[0.0,\"#0d0887\"],[0.1111111111111111,\"#46039f\"],[0.2222222222222222,\"#7201a8\"],[0.3333333333333333,\"#9c179e\"],[0.4444444444444444,\"#bd3786\"],[0.5555555555555556,\"#d8576b\"],[0.6666666666666666,\"#ed7953\"],[0.7777777777777778,\"#fb9f3a\"],[0.8888888888888888,\"#fdca26\"],[1.0,\"#f0f921\"]]}],\"heatmapgl\":[{\"type\":\"heatmapgl\",\"colorbar\":{\"outlinewidth\":0,\"ticks\":\"\"},\"colorscale\":[[0.0,\"#0d0887\"],[0.1111111111111111,\"#46039f\"],[0.2222222222222222,\"#7201a8\"],[0.3333333333333333,\"#9c179e\"],[0.4444444444444444,\"#bd3786\"],[0.5555555555555556,\"#d8576b\"],[0.6666666666666666,\"#ed7953\"],[0.7777777777777778,\"#fb9f3a\"],[0.8888888888888888,\"#fdca26\"],[1.0,\"#f0f921\"]]}],\"contourcarpet\":[{\"type\":\"contourcarpet\",\"colorbar\":{\"outlinewidth\":0,\"ticks\":\"\"}}],\"contour\":[{\"type\":\"contour\",\"colorbar\":{\"outlinewidth\":0,\"ticks\":\"\"},\"colorscale\":[[0.0,\"#0d0887\"],[0.1111111111111111,\"#46039f\"],[0.2222222222222222,\"#7201a8\"],[0.3333333333333333,\"#9c179e\"],[0.4444444444444444,\"#bd3786\"],[0.5555555555555556,\"#d8576b\"],[0.6666666666666666,\"#ed7953\"],[0.7777777777777778,\"#fb9f3a\"],[0.8888888888888888,\"#fdca26\"],[1.0,\"#f0f921\"]]}],\"surface\":[{\"type\":\"surface\",\"colorbar\":{\"outlinewidth\":0,\"ticks\":\"\"},\"colorscale\":[[0.0,\"#0d0887\"],[0.1111111111111111,\"#46039f\"],[0.2222222222222222,\"#7201a8\"],[0.3333333333333333,\"#9c179e\"],[0.4444444444444444,\"#bd3786\"],[0.5555555555555556,\"#d8576b\"],[0.6666666666666666,\"#ed7953\"],[0.7777777777777778,\"#fb9f3a\"],[0.8888888888888888,\"#fdca26\"],[1.0,\"#f0f921\"]]}],\"mesh3d\":[{\"type\":\"mesh3d\",\"colorbar\":{\"outlinewidth\":0,\"ticks\":\"\"}}],\"scatter\":[{\"fillpattern\":{\"fillmode\":\"overlay\",\"size\":10,\"solidity\":0.2},\"type\":\"scatter\"}],\"parcoords\":[{\"type\":\"parcoords\",\"line\":{\"colorbar\":{\"outlinewidth\":0,\"ticks\":\"\"}}}],\"scatterpolargl\":[{\"type\":\"scatterpolargl\",\"marker\":{\"colorbar\":{\"outlinewidth\":0,\"ticks\":\"\"}}}],\"bar\":[{\"error_x\":{\"color\":\"#2a3f5f\"},\"error_y\":{\"color\":\"#2a3f5f\"},\"marker\":{\"line\":{\"color\":\"#E5ECF6\",\"width\":0.5},\"pattern\":{\"fillmode\":\"overlay\",\"size\":10,\"solidity\":0.2}},\"type\":\"bar\"}],\"scattergeo\":[{\"type\":\"scattergeo\",\"marker\":{\"colorbar\":{\"outlinewidth\":0,\"ticks\":\"\"}}}],\"scatterpolar\":[{\"type\":\"scatterpolar\",\"marker\":{\"colorbar\":{\"outlinewidth\":0,\"ticks\":\"\"}}}],\"histogram\":[{\"marker\":{\"pattern\":{\"fillmode\":\"overlay\",\"size\":10,\"solidity\":0.2}},\"type\":\"histogram\"}],\"scattergl\":[{\"type\":\"scattergl\",\"marker\":{\"colorbar\":{\"outlinewidth\":0,\"ticks\":\"\"}}}],\"scatter3d\":[{\"type\":\"scatter3d\",\"line\":{\"colorbar\":{\"outlinewidth\":0,\"ticks\":\"\"}},\"marker\":{\"colorbar\":{\"outlinewidth\":0,\"ticks\":\"\"}}}],\"scattermapbox\":[{\"type\":\"scattermapbox\",\"marker\":{\"colorbar\":{\"outlinewidth\":0,\"ticks\":\"\"}}}],\"scatterternary\":[{\"type\":\"scatterternary\",\"marker\":{\"colorbar\":{\"outlinewidth\":0,\"ticks\":\"\"}}}],\"scattercarpet\":[{\"type\":\"scattercarpet\",\"marker\":{\"colorbar\":{\"outlinewidth\":0,\"ticks\":\"\"}}}],\"carpet\":[{\"aaxis\":{\"endlinecolor\":\"#2a3f5f\",\"gridcolor\":\"white\",\"linecolor\":\"white\",\"minorgridcolor\":\"white\",\"startlinecolor\":\"#2a3f5f\"},\"baxis\":{\"endlinecolor\":\"#2a3f5f\",\"gridcolor\":\"white\",\"linecolor\":\"white\",\"minorgridcolor\":\"white\",\"startlinecolor\":\"#2a3f5f\"},\"type\":\"carpet\"}],\"table\":[{\"cells\":{\"fill\":{\"color\":\"#EBF0F8\"},\"line\":{\"color\":\"white\"}},\"header\":{\"fill\":{\"color\":\"#C8D4E3\"},\"line\":{\"color\":\"white\"}},\"type\":\"table\"}],\"barpolar\":[{\"marker\":{\"line\":{\"color\":\"#E5ECF6\",\"width\":0.5},\"pattern\":{\"fillmode\":\"overlay\",\"size\":10,\"solidity\":0.2}},\"type\":\"barpolar\"}],\"pie\":[{\"automargin\":true,\"type\":\"pie\"}]},\"layout\":{\"autotypenumbers\":\"strict\",\"colorway\":[\"#636efa\",\"#EF553B\",\"#00cc96\",\"#ab63fa\",\"#FFA15A\",\"#19d3f3\",\"#FF6692\",\"#B6E880\",\"#FF97FF\",\"#FECB52\"],\"font\":{\"color\":\"#2a3f5f\"},\"hovermode\":\"closest\",\"hoverlabel\":{\"align\":\"left\"},\"paper_bgcolor\":\"white\",\"plot_bgcolor\":\"#E5ECF6\",\"polar\":{\"bgcolor\":\"#E5ECF6\",\"angularaxis\":{\"gridcolor\":\"white\",\"linecolor\":\"white\",\"ticks\":\"\"},\"radialaxis\":{\"gridcolor\":\"white\",\"linecolor\":\"white\",\"ticks\":\"\"}},\"ternary\":{\"bgcolor\":\"#E5ECF6\",\"aaxis\":{\"gridcolor\":\"white\",\"linecolor\":\"white\",\"ticks\":\"\"},\"baxis\":{\"gridcolor\":\"white\",\"linecolor\":\"white\",\"ticks\":\"\"},\"caxis\":{\"gridcolor\":\"white\",\"linecolor\":\"white\",\"ticks\":\"\"}},\"coloraxis\":{\"colorbar\":{\"outlinewidth\":0,\"ticks\":\"\"}},\"colorscale\":{\"sequential\":[[0.0,\"#0d0887\"],[0.1111111111111111,\"#46039f\"],[0.2222222222222222,\"#7201a8\"],[0.3333333333333333,\"#9c179e\"],[0.4444444444444444,\"#bd3786\"],[0.5555555555555556,\"#d8576b\"],[0.6666666666666666,\"#ed7953\"],[0.7777777777777778,\"#fb9f3a\"],[0.8888888888888888,\"#fdca26\"],[1.0,\"#f0f921\"]],\"sequentialminus\":[[0.0,\"#0d0887\"],[0.1111111111111111,\"#46039f\"],[0.2222222222222222,\"#7201a8\"],[0.3333333333333333,\"#9c179e\"],[0.4444444444444444,\"#bd3786\"],[0.5555555555555556,\"#d8576b\"],[0.6666666666666666,\"#ed7953\"],[0.7777777777777778,\"#fb9f3a\"],[0.8888888888888888,\"#fdca26\"],[1.0,\"#f0f921\"]],\"diverging\":[[0,\"#8e0152\"],[0.1,\"#c51b7d\"],[0.2,\"#de77ae\"],[0.3,\"#f1b6da\"],[0.4,\"#fde0ef\"],[0.5,\"#f7f7f7\"],[0.6,\"#e6f5d0\"],[0.7,\"#b8e186\"],[0.8,\"#7fbc41\"],[0.9,\"#4d9221\"],[1,\"#276419\"]]},\"xaxis\":{\"gridcolor\":\"white\",\"linecolor\":\"white\",\"ticks\":\"\",\"title\":{\"standoff\":15},\"zerolinecolor\":\"white\",\"automargin\":true,\"zerolinewidth\":2},\"yaxis\":{\"gridcolor\":\"white\",\"linecolor\":\"white\",\"ticks\":\"\",\"title\":{\"standoff\":15},\"zerolinecolor\":\"white\",\"automargin\":true,\"zerolinewidth\":2},\"scene\":{\"xaxis\":{\"backgroundcolor\":\"#E5ECF6\",\"gridcolor\":\"white\",\"linecolor\":\"white\",\"showbackground\":true,\"ticks\":\"\",\"zerolinecolor\":\"white\",\"gridwidth\":2},\"yaxis\":{\"backgroundcolor\":\"#E5ECF6\",\"gridcolor\":\"white\",\"linecolor\":\"white\",\"showbackground\":true,\"ticks\":\"\",\"zerolinecolor\":\"white\",\"gridwidth\":2},\"zaxis\":{\"backgroundcolor\":\"#E5ECF6\",\"gridcolor\":\"white\",\"linecolor\":\"white\",\"showbackground\":true,\"ticks\":\"\",\"zerolinecolor\":\"white\",\"gridwidth\":2}},\"shapedefaults\":{\"line\":{\"color\":\"#2a3f5f\"}},\"annotationdefaults\":{\"arrowcolor\":\"#2a3f5f\",\"arrowhead\":0,\"arrowwidth\":1},\"geo\":{\"bgcolor\":\"white\",\"landcolor\":\"#E5ECF6\",\"subunitcolor\":\"white\",\"showland\":true,\"showlakes\":true,\"lakecolor\":\"white\"},\"title\":{\"x\":0.05},\"mapbox\":{\"style\":\"light\"}}},\"title\":{\"text\":\"\\u041f\\u0440\\u043e\\u0446\\u0435\\u043d\\u0442 \\u043f\\u043e\\u043b\\u044c\\u0437\\u043e\\u0432\\u0430\\u0442\\u0435\\u043b\\u0435\\u0439 \\u043f\\u0435\\u0440\\u0435\\u0448\\u0435\\u0434\\u0448\\u0438\\u0445 \\u043d\\u0430 \\u0441\\u043b\\u0435\\u0434\\u0443\\u044e\\u0449\\u0438\\u0439 \\u044d\\u0442\\u0430\\u043f \\u043e\\u0442\\u043d\\u043e\\u0441\\u0438\\u0442\\u0435\\u043b\\u044c\\u043d\\u043e \\u043f\\u0435\\u0440\\u0432\\u043e\\u0433\\u043e \\u044d\\u0442\\u0430\\u043f\\u0430 \\u0432\\u043e\\u0440\\u043e\\u043d\\u043a\\u0438\"}},                        {\"responsive\": true}                    ).then(function(){\n",
              "                            \n",
              "var gd = document.getElementById('dae2e8ab-3b93-4b1b-ae45-b5cc035fb41a');\n",
              "var x = new MutationObserver(function (mutations, observer) {{\n",
              "        var display = window.getComputedStyle(gd).display;\n",
              "        if (!display || display === 'none') {{\n",
              "            console.log([gd, 'removed!']);\n",
              "            Plotly.purge(gd);\n",
              "            observer.disconnect();\n",
              "        }}\n",
              "}});\n",
              "\n",
              "// Listen for the removal of the full notebook cells\n",
              "var notebookContainer = gd.closest('#notebook-container');\n",
              "if (notebookContainer) {{\n",
              "    x.observe(notebookContainer, {childList: true});\n",
              "}}\n",
              "\n",
              "// Listen for the clearing of the current output cell\n",
              "var outputEl = gd.closest('.output');\n",
              "if (outputEl) {{\n",
              "    x.observe(outputEl, {childList: true});\n",
              "}}\n",
              "\n",
              "                        })                };                            </script>        </div>\n",
              "</body>\n",
              "</html>"
            ]
          },
          "metadata": {}
        }
      ],
      "source": [
        "fig = go.Figure(go.Funnel(\n",
        "    x = events_users['users'],\n",
        "    y = events_users['event']))\n",
        "fig.update_layout(title_text='Процент пользователей перешедших на следующий этап относительно первого этапа воронки')\n",
        "fig.show()\n"
      ]
    },
    {
      "cell_type": "markdown",
      "metadata": {
        "id": "ijsyRYONeMjO"
      },
      "source": [
        "### ***Выводы по разделу Изучение воронки событий***\n",
        "\n",
        "1. 7419 пользователей заходили на главный экран мобильного приложения. Доля пользователей, которые хоть раз совершили событие составила 37,51%.\n",
        "При этом можно заметить, что не все уникальные пользователи первым шагом попадали на главный экран.\n",
        "\n",
        "2. Предположительно события происходят в следующем порятке:\n",
        "\n",
        "- MainScreenAppear - Появление главного экрана\n",
        "\n",
        "- OffersScreenAppear - Появление экрана предложений\n",
        "\n",
        "- CartScreenAppear - Появление экрана корзины\n",
        "\n",
        "- PaymentScreenSuccessful - Появление экрана Успешный платёж\n",
        "\n",
        "А вот событие Tutorial (Руководство пользователя) имеет очень маленькую конверсию, и по логике к мену могу обратиться на любом из этапов при необходимости, но делают это редко. Поэтому оно не является частью воронки.\n",
        "\n",
        "\n",
        "3. До совершения оплаты покупки, доля пользователей проходящих на следующий шаг воронки самая высокая при переходе с шага CartScreenAppear (Появление экрана корзины) на шаг PaymentScreenSuccessful (Появление экрана Успешный платёж), почти 95%. А вот при переходе с главного экрана на экран предложений она составляет чуть менее 62%.\n",
        "\n",
        "4. Больше всего пользователей теряется на втором шаге при переходе от главного экрана на экран предложений, доля потерь составляет 37.51% от первоначального объема.\n",
        "\n",
        "5. Доля пользователей доходящих от первого события до оплаты составляет 46,97%, это очень хороший показатель.\n",
        "\n"
      ]
    },
    {
      "cell_type": "markdown",
      "metadata": {
        "id": "-kMEOrjD0rCV"
      },
      "source": [
        "## **Изучение результатов эксперимента**"
      ]
    },
    {
      "cell_type": "markdown",
      "metadata": {
        "id": "dET--kYH04sI"
      },
      "source": [
        "Ещё раз посмотрим сколько пользователей в каждой экспериментальной группе"
      ]
    },
    {
      "cell_type": "code",
      "execution_count": 28,
      "metadata": {
        "colab": {
          "base_uri": "https://localhost:8080/",
          "height": 143
        },
        "id": "8C_cY7Ej7Ymo",
        "outputId": "4563e436-c743-43bf-b90a-7620a2df704c"
      },
      "outputs": [
        {
          "output_type": "display_data",
          "data": {
            "text/plain": [
              "   group  user\n",
              "0    246  2483\n",
              "1    247  2512\n",
              "2    248  2535"
            ],
            "text/html": [
              "\n",
              "  <div id=\"df-b56c6587-3944-4b08-98c3-60049c7f6aab\">\n",
              "    <div class=\"colab-df-container\">\n",
              "      <div>\n",
              "<style scoped>\n",
              "    .dataframe tbody tr th:only-of-type {\n",
              "        vertical-align: middle;\n",
              "    }\n",
              "\n",
              "    .dataframe tbody tr th {\n",
              "        vertical-align: top;\n",
              "    }\n",
              "\n",
              "    .dataframe thead th {\n",
              "        text-align: right;\n",
              "    }\n",
              "</style>\n",
              "<table border=\"1\" class=\"dataframe\">\n",
              "  <thead>\n",
              "    <tr style=\"text-align: right;\">\n",
              "      <th></th>\n",
              "      <th>group</th>\n",
              "      <th>user</th>\n",
              "    </tr>\n",
              "  </thead>\n",
              "  <tbody>\n",
              "    <tr>\n",
              "      <th>0</th>\n",
              "      <td>246</td>\n",
              "      <td>2483</td>\n",
              "    </tr>\n",
              "    <tr>\n",
              "      <th>1</th>\n",
              "      <td>247</td>\n",
              "      <td>2512</td>\n",
              "    </tr>\n",
              "    <tr>\n",
              "      <th>2</th>\n",
              "      <td>248</td>\n",
              "      <td>2535</td>\n",
              "    </tr>\n",
              "  </tbody>\n",
              "</table>\n",
              "</div>\n",
              "      <button class=\"colab-df-convert\" onclick=\"convertToInteractive('df-b56c6587-3944-4b08-98c3-60049c7f6aab')\"\n",
              "              title=\"Convert this dataframe to an interactive table.\"\n",
              "              style=\"display:none;\">\n",
              "        \n",
              "  <svg xmlns=\"http://www.w3.org/2000/svg\" height=\"24px\"viewBox=\"0 0 24 24\"\n",
              "       width=\"24px\">\n",
              "    <path d=\"M0 0h24v24H0V0z\" fill=\"none\"/>\n",
              "    <path d=\"M18.56 5.44l.94 2.06.94-2.06 2.06-.94-2.06-.94-.94-2.06-.94 2.06-2.06.94zm-11 1L8.5 8.5l.94-2.06 2.06-.94-2.06-.94L8.5 2.5l-.94 2.06-2.06.94zm10 10l.94 2.06.94-2.06 2.06-.94-2.06-.94-.94-2.06-.94 2.06-2.06.94z\"/><path d=\"M17.41 7.96l-1.37-1.37c-.4-.4-.92-.59-1.43-.59-.52 0-1.04.2-1.43.59L10.3 9.45l-7.72 7.72c-.78.78-.78 2.05 0 2.83L4 21.41c.39.39.9.59 1.41.59.51 0 1.02-.2 1.41-.59l7.78-7.78 2.81-2.81c.8-.78.8-2.07 0-2.86zM5.41 20L4 18.59l7.72-7.72 1.47 1.35L5.41 20z\"/>\n",
              "  </svg>\n",
              "      </button>\n",
              "      \n",
              "  <style>\n",
              "    .colab-df-container {\n",
              "      display:flex;\n",
              "      flex-wrap:wrap;\n",
              "      gap: 12px;\n",
              "    }\n",
              "\n",
              "    .colab-df-convert {\n",
              "      background-color: #E8F0FE;\n",
              "      border: none;\n",
              "      border-radius: 50%;\n",
              "      cursor: pointer;\n",
              "      display: none;\n",
              "      fill: #1967D2;\n",
              "      height: 32px;\n",
              "      padding: 0 0 0 0;\n",
              "      width: 32px;\n",
              "    }\n",
              "\n",
              "    .colab-df-convert:hover {\n",
              "      background-color: #E2EBFA;\n",
              "      box-shadow: 0px 1px 2px rgba(60, 64, 67, 0.3), 0px 1px 3px 1px rgba(60, 64, 67, 0.15);\n",
              "      fill: #174EA6;\n",
              "    }\n",
              "\n",
              "    [theme=dark] .colab-df-convert {\n",
              "      background-color: #3B4455;\n",
              "      fill: #D2E3FC;\n",
              "    }\n",
              "\n",
              "    [theme=dark] .colab-df-convert:hover {\n",
              "      background-color: #434B5C;\n",
              "      box-shadow: 0px 1px 3px 1px rgba(0, 0, 0, 0.15);\n",
              "      filter: drop-shadow(0px 1px 2px rgba(0, 0, 0, 0.3));\n",
              "      fill: #FFFFFF;\n",
              "    }\n",
              "  </style>\n",
              "\n",
              "      <script>\n",
              "        const buttonEl =\n",
              "          document.querySelector('#df-b56c6587-3944-4b08-98c3-60049c7f6aab button.colab-df-convert');\n",
              "        buttonEl.style.display =\n",
              "          google.colab.kernel.accessAllowed ? 'block' : 'none';\n",
              "\n",
              "        async function convertToInteractive(key) {\n",
              "          const element = document.querySelector('#df-b56c6587-3944-4b08-98c3-60049c7f6aab');\n",
              "          const dataTable =\n",
              "            await google.colab.kernel.invokeFunction('convertToInteractive',\n",
              "                                                     [key], {});\n",
              "          if (!dataTable) return;\n",
              "\n",
              "          const docLinkHtml = 'Like what you see? Visit the ' +\n",
              "            '<a target=\"_blank\" href=https://colab.research.google.com/notebooks/data_table.ipynb>data table notebook</a>'\n",
              "            + ' to learn more about interactive tables.';\n",
              "          element.innerHTML = '';\n",
              "          dataTable['output_type'] = 'display_data';\n",
              "          await google.colab.output.renderOutput(dataTable, element);\n",
              "          const docLink = document.createElement('div');\n",
              "          docLink.innerHTML = docLinkHtml;\n",
              "          element.appendChild(docLink);\n",
              "        }\n",
              "      </script>\n",
              "    </div>\n",
              "  </div>\n",
              "  "
            ]
          },
          "metadata": {}
        }
      ],
      "source": [
        "logs=logs.query('event != \"Tutorial\"')\n",
        "\n",
        "user_group=logs.groupby('group')['user'].nunique().reset_index()\n",
        "display(user_group)"
      ]
    },
    {
      "cell_type": "markdown",
      "metadata": {
        "id": "TLYeK1mG9oFc"
      },
      "source": [
        "246 и 247 это наши контрольные группы  для А/А-эксперимента, чтобы проверить корректность всех механизмов и расчётов.\n",
        "Проверим, находят ли статистические критерии разницу между выборками 246 и 247.\n",
        "\n",
        "Первым критерии успешного A/A-теста является различие количество пользователей в различных группах не более, чем на 1%, проверим это."
      ]
    },
    {
      "cell_type": "code",
      "execution_count": 29,
      "metadata": {
        "colab": {
          "base_uri": "https://localhost:8080/",
          "height": 143
        },
        "id": "zVqqt8YHl7Zv",
        "outputId": "3d8ac7ae-8c8b-46cc-a550-b1d00f96b0cf"
      },
      "outputs": [
        {
          "output_type": "display_data",
          "data": {
            "text/plain": [
              "   group  user  all_user   share\n",
              "0    246  2483      7530  32.97%\n",
              "1    247  2512      7530  33.36%\n",
              "2    248  2535      7530  33.67%"
            ],
            "text/html": [
              "\n",
              "  <div id=\"df-e645bc46-df0f-47f6-8ed8-55ebd1b1e445\">\n",
              "    <div class=\"colab-df-container\">\n",
              "      <div>\n",
              "<style scoped>\n",
              "    .dataframe tbody tr th:only-of-type {\n",
              "        vertical-align: middle;\n",
              "    }\n",
              "\n",
              "    .dataframe tbody tr th {\n",
              "        vertical-align: top;\n",
              "    }\n",
              "\n",
              "    .dataframe thead th {\n",
              "        text-align: right;\n",
              "    }\n",
              "</style>\n",
              "<table border=\"1\" class=\"dataframe\">\n",
              "  <thead>\n",
              "    <tr style=\"text-align: right;\">\n",
              "      <th></th>\n",
              "      <th>group</th>\n",
              "      <th>user</th>\n",
              "      <th>all_user</th>\n",
              "      <th>share</th>\n",
              "    </tr>\n",
              "  </thead>\n",
              "  <tbody>\n",
              "    <tr>\n",
              "      <th>0</th>\n",
              "      <td>246</td>\n",
              "      <td>2483</td>\n",
              "      <td>7530</td>\n",
              "      <td>32.97%</td>\n",
              "    </tr>\n",
              "    <tr>\n",
              "      <th>1</th>\n",
              "      <td>247</td>\n",
              "      <td>2512</td>\n",
              "      <td>7530</td>\n",
              "      <td>33.36%</td>\n",
              "    </tr>\n",
              "    <tr>\n",
              "      <th>2</th>\n",
              "      <td>248</td>\n",
              "      <td>2535</td>\n",
              "      <td>7530</td>\n",
              "      <td>33.67%</td>\n",
              "    </tr>\n",
              "  </tbody>\n",
              "</table>\n",
              "</div>\n",
              "      <button class=\"colab-df-convert\" onclick=\"convertToInteractive('df-e645bc46-df0f-47f6-8ed8-55ebd1b1e445')\"\n",
              "              title=\"Convert this dataframe to an interactive table.\"\n",
              "              style=\"display:none;\">\n",
              "        \n",
              "  <svg xmlns=\"http://www.w3.org/2000/svg\" height=\"24px\"viewBox=\"0 0 24 24\"\n",
              "       width=\"24px\">\n",
              "    <path d=\"M0 0h24v24H0V0z\" fill=\"none\"/>\n",
              "    <path d=\"M18.56 5.44l.94 2.06.94-2.06 2.06-.94-2.06-.94-.94-2.06-.94 2.06-2.06.94zm-11 1L8.5 8.5l.94-2.06 2.06-.94-2.06-.94L8.5 2.5l-.94 2.06-2.06.94zm10 10l.94 2.06.94-2.06 2.06-.94-2.06-.94-.94-2.06-.94 2.06-2.06.94z\"/><path d=\"M17.41 7.96l-1.37-1.37c-.4-.4-.92-.59-1.43-.59-.52 0-1.04.2-1.43.59L10.3 9.45l-7.72 7.72c-.78.78-.78 2.05 0 2.83L4 21.41c.39.39.9.59 1.41.59.51 0 1.02-.2 1.41-.59l7.78-7.78 2.81-2.81c.8-.78.8-2.07 0-2.86zM5.41 20L4 18.59l7.72-7.72 1.47 1.35L5.41 20z\"/>\n",
              "  </svg>\n",
              "      </button>\n",
              "      \n",
              "  <style>\n",
              "    .colab-df-container {\n",
              "      display:flex;\n",
              "      flex-wrap:wrap;\n",
              "      gap: 12px;\n",
              "    }\n",
              "\n",
              "    .colab-df-convert {\n",
              "      background-color: #E8F0FE;\n",
              "      border: none;\n",
              "      border-radius: 50%;\n",
              "      cursor: pointer;\n",
              "      display: none;\n",
              "      fill: #1967D2;\n",
              "      height: 32px;\n",
              "      padding: 0 0 0 0;\n",
              "      width: 32px;\n",
              "    }\n",
              "\n",
              "    .colab-df-convert:hover {\n",
              "      background-color: #E2EBFA;\n",
              "      box-shadow: 0px 1px 2px rgba(60, 64, 67, 0.3), 0px 1px 3px 1px rgba(60, 64, 67, 0.15);\n",
              "      fill: #174EA6;\n",
              "    }\n",
              "\n",
              "    [theme=dark] .colab-df-convert {\n",
              "      background-color: #3B4455;\n",
              "      fill: #D2E3FC;\n",
              "    }\n",
              "\n",
              "    [theme=dark] .colab-df-convert:hover {\n",
              "      background-color: #434B5C;\n",
              "      box-shadow: 0px 1px 3px 1px rgba(0, 0, 0, 0.15);\n",
              "      filter: drop-shadow(0px 1px 2px rgba(0, 0, 0, 0.3));\n",
              "      fill: #FFFFFF;\n",
              "    }\n",
              "  </style>\n",
              "\n",
              "      <script>\n",
              "        const buttonEl =\n",
              "          document.querySelector('#df-e645bc46-df0f-47f6-8ed8-55ebd1b1e445 button.colab-df-convert');\n",
              "        buttonEl.style.display =\n",
              "          google.colab.kernel.accessAllowed ? 'block' : 'none';\n",
              "\n",
              "        async function convertToInteractive(key) {\n",
              "          const element = document.querySelector('#df-e645bc46-df0f-47f6-8ed8-55ebd1b1e445');\n",
              "          const dataTable =\n",
              "            await google.colab.kernel.invokeFunction('convertToInteractive',\n",
              "                                                     [key], {});\n",
              "          if (!dataTable) return;\n",
              "\n",
              "          const docLinkHtml = 'Like what you see? Visit the ' +\n",
              "            '<a target=\"_blank\" href=https://colab.research.google.com/notebooks/data_table.ipynb>data table notebook</a>'\n",
              "            + ' to learn more about interactive tables.';\n",
              "          element.innerHTML = '';\n",
              "          dataTable['output_type'] = 'display_data';\n",
              "          await google.colab.output.renderOutput(dataTable, element);\n",
              "          const docLink = document.createElement('div');\n",
              "          docLink.innerHTML = docLinkHtml;\n",
              "          element.appendChild(docLink);\n",
              "        }\n",
              "      </script>\n",
              "    </div>\n",
              "  </div>\n",
              "  "
            ]
          },
          "metadata": {}
        }
      ],
      "source": [
        "user_group=logs.groupby('group')['user'].nunique().reset_index()\n",
        "user_group['all_user']=user_group['user'].sum()\n",
        "user_group['share']=(user_group['user']/user_group['all_user']).transform(lambda x: '{:,.2%}'.format(x))\n",
        "display(user_group)"
      ]
    },
    {
      "cell_type": "markdown",
      "metadata": {
        "id": "Gsu8-zA7-gQk"
      },
      "source": [
        "Как видим из рассчета количество пользователей между группами 246 и 247 менее 1%.\n"
      ]
    },
    {
      "cell_type": "markdown",
      "metadata": {
        "id": "jLFoSazP_nyZ"
      },
      "source": [
        "Следующий критерий это - Попавший в одну из групп посетитель остаётся в этой группе до конца теста.\n",
        "Мы уже делали данную проверку в раздели Изучение и проверка данных и убедились что все пользоатели в группах не пересекаются."
      ]
    },
    {
      "cell_type": "markdown",
      "metadata": {
        "id": "otGKRqWerIDt"
      },
      "source": [
        "\n",
        "Так же для всех групп фиксировались и отправлялись в системы аналитики данные об одном и том же.\n",
        "\n"
      ]
    },
    {
      "cell_type": "markdown",
      "metadata": {
        "id": "y2LUI6yNSlAh"
      },
      "source": [
        "**5.1.** Выберем самое популярное событие. Посчитаем число пользователей, совершивших это событие в каждой из контрольных групп. Посчитаем долю пользователей, совершивших это событие. Проверим, будет ли отличие между группами статистически достоверным."
      ]
    },
    {
      "cell_type": "markdown",
      "metadata": {
        "id": "InLfZTqkAPWZ"
      },
      "source": [
        "Для проведения дальнейшего анализа создадим сводную таблицу с необходимыми столбцами."
      ]
    },
    {
      "cell_type": "code",
      "execution_count": 30,
      "metadata": {
        "id": "Vxr4t_MpiWWo"
      },
      "outputs": [],
      "source": [
        "test = logs.pivot_table(index='event', columns='group', values='user', aggfunc='nunique').reset_index().sort_values(246, ascending=False).reset_index(drop=True)"
      ]
    },
    {
      "cell_type": "code",
      "execution_count": 31,
      "metadata": {
        "id": "lSNdeDg2ig3Q"
      },
      "outputs": [],
      "source": [
        "t_user=logs.groupby('group')['user'].nunique().reset_index()"
      ]
    },
    {
      "cell_type": "code",
      "execution_count": 32,
      "metadata": {
        "colab": {
          "base_uri": "https://localhost:8080/",
          "height": 175
        },
        "id": "EHgVHsfcjbLu",
        "outputId": "5950107c-2769-4b02-d78b-1cbf9a1bf34c"
      },
      "outputs": [
        {
          "output_type": "execute_result",
          "data": {
            "text/plain": [
              "group                    event   246   247   248 conv_246 conv_247 conv_248  \\\n",
              "0             MainScreenAppear  2450  2476  2493   98.67%   98.57%   98.34%   \n",
              "1           OffersScreenAppear  1542  1520  1531   62.10%   60.51%   60.39%   \n",
              "2             CartScreenAppear  1266  1238  1230   50.99%   49.28%   48.52%   \n",
              "3      PaymentScreenSuccessful  1200  1158  1181   48.33%   46.10%   46.59%   \n",
              "\n",
              "group conv_246_per_step conv_247_per_step conv_248_per_step  all_246  all_247  \\\n",
              "0                  nan%              nan%              nan%     2483     2512   \n",
              "1                62.94%            61.39%            61.41%     2483     2512   \n",
              "2                82.10%            81.45%            80.34%     2483     2512   \n",
              "3                94.79%            93.54%            96.02%     2483     2512   \n",
              "\n",
              "group  all_248  \n",
              "0         2535  \n",
              "1         2535  \n",
              "2         2535  \n",
              "3         2535  "
            ],
            "text/html": [
              "\n",
              "  <div id=\"df-64032618-4edf-47cc-b517-6b0d1d66afc4\">\n",
              "    <div class=\"colab-df-container\">\n",
              "      <div>\n",
              "<style scoped>\n",
              "    .dataframe tbody tr th:only-of-type {\n",
              "        vertical-align: middle;\n",
              "    }\n",
              "\n",
              "    .dataframe tbody tr th {\n",
              "        vertical-align: top;\n",
              "    }\n",
              "\n",
              "    .dataframe thead th {\n",
              "        text-align: right;\n",
              "    }\n",
              "</style>\n",
              "<table border=\"1\" class=\"dataframe\">\n",
              "  <thead>\n",
              "    <tr style=\"text-align: right;\">\n",
              "      <th>group</th>\n",
              "      <th>event</th>\n",
              "      <th>246</th>\n",
              "      <th>247</th>\n",
              "      <th>248</th>\n",
              "      <th>conv_246</th>\n",
              "      <th>conv_247</th>\n",
              "      <th>conv_248</th>\n",
              "      <th>conv_246_per_step</th>\n",
              "      <th>conv_247_per_step</th>\n",
              "      <th>conv_248_per_step</th>\n",
              "      <th>all_246</th>\n",
              "      <th>all_247</th>\n",
              "      <th>all_248</th>\n",
              "    </tr>\n",
              "  </thead>\n",
              "  <tbody>\n",
              "    <tr>\n",
              "      <th>0</th>\n",
              "      <td>MainScreenAppear</td>\n",
              "      <td>2450</td>\n",
              "      <td>2476</td>\n",
              "      <td>2493</td>\n",
              "      <td>98.67%</td>\n",
              "      <td>98.57%</td>\n",
              "      <td>98.34%</td>\n",
              "      <td>nan%</td>\n",
              "      <td>nan%</td>\n",
              "      <td>nan%</td>\n",
              "      <td>2483</td>\n",
              "      <td>2512</td>\n",
              "      <td>2535</td>\n",
              "    </tr>\n",
              "    <tr>\n",
              "      <th>1</th>\n",
              "      <td>OffersScreenAppear</td>\n",
              "      <td>1542</td>\n",
              "      <td>1520</td>\n",
              "      <td>1531</td>\n",
              "      <td>62.10%</td>\n",
              "      <td>60.51%</td>\n",
              "      <td>60.39%</td>\n",
              "      <td>62.94%</td>\n",
              "      <td>61.39%</td>\n",
              "      <td>61.41%</td>\n",
              "      <td>2483</td>\n",
              "      <td>2512</td>\n",
              "      <td>2535</td>\n",
              "    </tr>\n",
              "    <tr>\n",
              "      <th>2</th>\n",
              "      <td>CartScreenAppear</td>\n",
              "      <td>1266</td>\n",
              "      <td>1238</td>\n",
              "      <td>1230</td>\n",
              "      <td>50.99%</td>\n",
              "      <td>49.28%</td>\n",
              "      <td>48.52%</td>\n",
              "      <td>82.10%</td>\n",
              "      <td>81.45%</td>\n",
              "      <td>80.34%</td>\n",
              "      <td>2483</td>\n",
              "      <td>2512</td>\n",
              "      <td>2535</td>\n",
              "    </tr>\n",
              "    <tr>\n",
              "      <th>3</th>\n",
              "      <td>PaymentScreenSuccessful</td>\n",
              "      <td>1200</td>\n",
              "      <td>1158</td>\n",
              "      <td>1181</td>\n",
              "      <td>48.33%</td>\n",
              "      <td>46.10%</td>\n",
              "      <td>46.59%</td>\n",
              "      <td>94.79%</td>\n",
              "      <td>93.54%</td>\n",
              "      <td>96.02%</td>\n",
              "      <td>2483</td>\n",
              "      <td>2512</td>\n",
              "      <td>2535</td>\n",
              "    </tr>\n",
              "  </tbody>\n",
              "</table>\n",
              "</div>\n",
              "      <button class=\"colab-df-convert\" onclick=\"convertToInteractive('df-64032618-4edf-47cc-b517-6b0d1d66afc4')\"\n",
              "              title=\"Convert this dataframe to an interactive table.\"\n",
              "              style=\"display:none;\">\n",
              "        \n",
              "  <svg xmlns=\"http://www.w3.org/2000/svg\" height=\"24px\"viewBox=\"0 0 24 24\"\n",
              "       width=\"24px\">\n",
              "    <path d=\"M0 0h24v24H0V0z\" fill=\"none\"/>\n",
              "    <path d=\"M18.56 5.44l.94 2.06.94-2.06 2.06-.94-2.06-.94-.94-2.06-.94 2.06-2.06.94zm-11 1L8.5 8.5l.94-2.06 2.06-.94-2.06-.94L8.5 2.5l-.94 2.06-2.06.94zm10 10l.94 2.06.94-2.06 2.06-.94-2.06-.94-.94-2.06-.94 2.06-2.06.94z\"/><path d=\"M17.41 7.96l-1.37-1.37c-.4-.4-.92-.59-1.43-.59-.52 0-1.04.2-1.43.59L10.3 9.45l-7.72 7.72c-.78.78-.78 2.05 0 2.83L4 21.41c.39.39.9.59 1.41.59.51 0 1.02-.2 1.41-.59l7.78-7.78 2.81-2.81c.8-.78.8-2.07 0-2.86zM5.41 20L4 18.59l7.72-7.72 1.47 1.35L5.41 20z\"/>\n",
              "  </svg>\n",
              "      </button>\n",
              "      \n",
              "  <style>\n",
              "    .colab-df-container {\n",
              "      display:flex;\n",
              "      flex-wrap:wrap;\n",
              "      gap: 12px;\n",
              "    }\n",
              "\n",
              "    .colab-df-convert {\n",
              "      background-color: #E8F0FE;\n",
              "      border: none;\n",
              "      border-radius: 50%;\n",
              "      cursor: pointer;\n",
              "      display: none;\n",
              "      fill: #1967D2;\n",
              "      height: 32px;\n",
              "      padding: 0 0 0 0;\n",
              "      width: 32px;\n",
              "    }\n",
              "\n",
              "    .colab-df-convert:hover {\n",
              "      background-color: #E2EBFA;\n",
              "      box-shadow: 0px 1px 2px rgba(60, 64, 67, 0.3), 0px 1px 3px 1px rgba(60, 64, 67, 0.15);\n",
              "      fill: #174EA6;\n",
              "    }\n",
              "\n",
              "    [theme=dark] .colab-df-convert {\n",
              "      background-color: #3B4455;\n",
              "      fill: #D2E3FC;\n",
              "    }\n",
              "\n",
              "    [theme=dark] .colab-df-convert:hover {\n",
              "      background-color: #434B5C;\n",
              "      box-shadow: 0px 1px 3px 1px rgba(0, 0, 0, 0.15);\n",
              "      filter: drop-shadow(0px 1px 2px rgba(0, 0, 0, 0.3));\n",
              "      fill: #FFFFFF;\n",
              "    }\n",
              "  </style>\n",
              "\n",
              "      <script>\n",
              "        const buttonEl =\n",
              "          document.querySelector('#df-64032618-4edf-47cc-b517-6b0d1d66afc4 button.colab-df-convert');\n",
              "        buttonEl.style.display =\n",
              "          google.colab.kernel.accessAllowed ? 'block' : 'none';\n",
              "\n",
              "        async function convertToInteractive(key) {\n",
              "          const element = document.querySelector('#df-64032618-4edf-47cc-b517-6b0d1d66afc4');\n",
              "          const dataTable =\n",
              "            await google.colab.kernel.invokeFunction('convertToInteractive',\n",
              "                                                     [key], {});\n",
              "          if (!dataTable) return;\n",
              "\n",
              "          const docLinkHtml = 'Like what you see? Visit the ' +\n",
              "            '<a target=\"_blank\" href=https://colab.research.google.com/notebooks/data_table.ipynb>data table notebook</a>'\n",
              "            + ' to learn more about interactive tables.';\n",
              "          element.innerHTML = '';\n",
              "          dataTable['output_type'] = 'display_data';\n",
              "          await google.colab.output.renderOutput(dataTable, element);\n",
              "          const docLink = document.createElement('div');\n",
              "          docLink.innerHTML = docLinkHtml;\n",
              "          element.appendChild(docLink);\n",
              "        }\n",
              "      </script>\n",
              "    </div>\n",
              "  </div>\n",
              "  "
            ]
          },
          "metadata": {},
          "execution_count": 32
        }
      ],
      "source": [
        "test['all_246']= t_user.loc[0, 'user']\n",
        "test['all_247']= t_user.loc[1, 'user']\n",
        "test['all_248']= t_user.loc[2, 'user']\n",
        "test['conv_246'] = (test[246] / test['all_246']).transform(lambda x: '{:,.2%}'.format(x))\n",
        "test['conv_246_per_step']= (test[246]/(test[246].shift(1))).transform(lambda x: '{:,.2%}'.format(x))\n",
        "test['conv_247'] = (test[247] / test['all_247']).transform(lambda x: '{:,.2%}'.format(x))\n",
        "test['conv_247_per_step']= (test[247]/(test[247].shift(1))).transform(lambda x: '{:,.2%}'.format(x))\n",
        "test['conv_248'] = (test[248] / test['all_248']).transform(lambda x: '{:,.2%}'.format(x))\n",
        "test['conv_248_per_step']= (test[248]/(test[248].shift(1))).transform(lambda x: '{:,.2%}'.format(x))\n",
        "test = test[['event', 246, 247, 248, 'conv_246', 'conv_247', 'conv_248', 'conv_246_per_step', 'conv_247_per_step', 'conv_248_per_step', 'all_246', 'all_247', 'all_248']]\n",
        "test"
      ]
    },
    {
      "cell_type": "markdown",
      "metadata": {
        "id": "7xn2FnwAAner"
      },
      "source": [
        "Самое популярное событие это MainScreenAppear.\n",
        "\n",
        "***Число пользователей совершивших данное событие в контрольных группах:***\n",
        "\n",
        "группа 246 - 2450 пользователей\n",
        "\n",
        "группа 247 - 2476 пользователей\n",
        "\n",
        "***Доля пользователей совершивших событие:***\n",
        "\n",
        "группа 246 - 98.67%\n",
        "\n",
        "группа 247 - 98.57%\n"
      ]
    },
    {
      "cell_type": "markdown",
      "metadata": {
        "id": "_6JBab_WCaJE"
      },
      "source": [
        "Проверим, будет ли отличие между группами статистически достоверным.\n",
        "\n",
        "***Сформулируем гипотезы***\n",
        "\n",
        "H0: различий в долях групп 246 и 247 нет.\n",
        "\n",
        "H1: между долями есть значимая разница."
      ]
    },
    {
      "cell_type": "code",
      "execution_count": 33,
      "metadata": {
        "colab": {
          "base_uri": "https://localhost:8080/"
        },
        "id": "DwP59YMuDxK_",
        "outputId": "879da8e1-2115-4c23-8671-0e8bfa4c9579"
      },
      "outputs": [
        {
          "output_type": "stream",
          "name": "stdout",
          "text": [
            "Событие MainScreenAppear\n",
            "p_value:  0.753\n",
            "Не получилось отвергнуть нулевую гипотезу, нет оснований считать доли разными\n"
          ]
        }
      ],
      "source": [
        "from statsmodels.stats.proportion import proportions_ztest\n",
        "count = np.array([test.loc[0,246], test.loc[0,247]])\n",
        "nobs = np.array([test.loc[0,'all_246'], test.loc[0,'all_247']])\n",
        "alpha = 0.05  # критический уровень статистической значимости\n",
        "stat, p_value = proportions_ztest(count, nobs)\n",
        "\n",
        "print ('Событие', test.loc[0, 'event'])\n",
        "print('p_value: ', '{0:0.3f}'.format(p_value))\n",
        "\n",
        "if p_value < alpha:\n",
        "    print('Отвергаем нулевую гипотезу: между долями есть значимая разница')\n",
        "else:\n",
        "    print(\n",
        "        'Не получилось отвергнуть нулевую гипотезу, нет оснований считать доли разными'\n",
        "    )\n"
      ]
    },
    {
      "cell_type": "markdown",
      "metadata": {
        "id": "Px4z9DXsZnLC"
      },
      "source": [
        "Согласно проведенном тесту, различие между контрольными группа 246 и 247 при событии MainScreenAppear статистически незначимо.\n",
        "\n",
        "Проделаем то же самое тестирование для всех других событий, для этого обернём тест в функцию."
      ]
    },
    {
      "cell_type": "code",
      "execution_count": 34,
      "metadata": {
        "id": "3hhEBbMI2tqW"
      },
      "outputs": [],
      "source": [
        "from statsmodels.stats.proportion import proportions_ztest\n",
        "def z_test(alpha, event, group1, group2, total_group1, total_group2):\n",
        "  count = np.array([test.loc[test['event']== event, group1], test.loc[test['event']== event,group2]])\n",
        "  nobs = np.array([test.loc[test['event']== event, total_group1], test.loc[test['event']== event, total_group2]])\n",
        "  #alpha = 0.05  # критический уровень статистической значимости\n",
        "  stat, p_value = proportions_ztest(count, nobs)\n",
        "\n",
        "  print ('Результаты теста для групп', group1, 'и', group2)\n",
        "  print ('Событие', event)\n",
        "  print ('p_value: ', p_value.round(3))\n",
        "\n",
        "\n",
        "  if p_value < alpha:\n",
        "    print('Отвергаем нулевую гипотезу: между долями есть значимая разница')\n",
        "  else:\n",
        "    print('Не получилось отвергнуть нулевую гипотезу, нет оснований считать доли разными')\n",
        "\n"
      ]
    },
    {
      "cell_type": "code",
      "execution_count": 35,
      "metadata": {
        "colab": {
          "base_uri": "https://localhost:8080/"
        },
        "id": "YwyOmn47OQGh",
        "outputId": "b01cd074-6405-442e-f0d9-1a5dc85bf137"
      },
      "outputs": [
        {
          "output_type": "execute_result",
          "data": {
            "text/plain": [
              "['MainScreenAppear',\n",
              " 'OffersScreenAppear',\n",
              " 'CartScreenAppear',\n",
              " 'PaymentScreenSuccessful']"
            ]
          },
          "metadata": {},
          "execution_count": 35
        }
      ],
      "source": [
        "# выделим события в отдельный список\n",
        "event_names = list(test['event'])\n",
        "event_names"
      ]
    },
    {
      "cell_type": "code",
      "execution_count": 36,
      "metadata": {
        "colab": {
          "base_uri": "https://localhost:8080/"
        },
        "id": "50AFE4TkOjoO",
        "outputId": "8eb501a6-7dac-4bc4-9640-47457fb7c7a6"
      },
      "outputs": [
        {
          "output_type": "stream",
          "name": "stdout",
          "text": [
            "Результаты теста для групп 246 и 247\n",
            "Событие MainScreenAppear\n",
            "p_value:  [0.753]\n",
            "Не получилось отвергнуть нулевую гипотезу, нет оснований считать доли разными\n",
            "\n",
            "Результаты теста для групп 246 и 247\n",
            "Событие OffersScreenAppear\n",
            "p_value:  [0.248]\n",
            "Не получилось отвергнуть нулевую гипотезу, нет оснований считать доли разными\n",
            "\n",
            "Результаты теста для групп 246 и 247\n",
            "Событие CartScreenAppear\n",
            "p_value:  [0.229]\n",
            "Не получилось отвергнуть нулевую гипотезу, нет оснований считать доли разными\n",
            "\n",
            "Результаты теста для групп 246 и 247\n",
            "Событие PaymentScreenSuccessful\n",
            "p_value:  [0.114]\n",
            "Не получилось отвергнуть нулевую гипотезу, нет оснований считать доли разными\n",
            "\n"
          ]
        }
      ],
      "source": [
        "#проверим, будет ли отличие между группами статистически достоверным.\n",
        "for event in event_names:\n",
        "  z_test(0.05, event, 246, 247, 'all_246', 'all_247')\n",
        "  print( )\n"
      ]
    },
    {
      "cell_type": "markdown",
      "metadata": {
        "id": "32KSUcYrLfvM"
      },
      "source": [
        "\n",
        "Согласно проведенным тестам по всем событиям, различие между контрольными группа 246 и 247 статистически незначимо, поэтому можно сказать, что разбиение на группы работает корректно.\n",
        "\n",
        "Аналогичные тестирования проведем с группой с изменённым шрифтом."
      ]
    },
    {
      "cell_type": "markdown",
      "metadata": {
        "id": "pfLt__Y1bmTp"
      },
      "source": [
        "**5.2.** Сравните результаты с каждой из контрольных групп в отдельности по каждому событию.\n",
        "\n"
      ]
    },
    {
      "cell_type": "markdown",
      "metadata": {
        "id": "NoNOlvw8fi8u"
      },
      "source": [
        "***Сформулируем гипотезы***\n",
        "\n",
        "H0: различий в долях групп 246 и 248 нет.\n",
        "\n",
        "H1: между долями есть значимая разница."
      ]
    },
    {
      "cell_type": "code",
      "execution_count": 37,
      "metadata": {
        "colab": {
          "base_uri": "https://localhost:8080/"
        },
        "id": "ToN46OmGMJwx",
        "outputId": "e8bef131-5f4c-4bdd-9a8b-c3dcaa1c7759"
      },
      "outputs": [
        {
          "output_type": "stream",
          "name": "stdout",
          "text": [
            "Результаты теста для групп 246 и 248\n",
            "Событие MainScreenAppear\n",
            "p_value:  [0.339]\n",
            "Не получилось отвергнуть нулевую гипотезу, нет оснований считать доли разными\n",
            "\n",
            "Результаты теста для групп 246 и 248\n",
            "Событие OffersScreenAppear\n",
            "p_value:  [0.214]\n",
            "Не получилось отвергнуть нулевую гипотезу, нет оснований считать доли разными\n",
            "\n",
            "Результаты теста для групп 246 и 248\n",
            "Событие CartScreenAppear\n",
            "p_value:  [0.081]\n",
            "Не получилось отвергнуть нулевую гипотезу, нет оснований считать доли разными\n",
            "\n",
            "Результаты теста для групп 246 и 248\n",
            "Событие PaymentScreenSuccessful\n",
            "p_value:  [0.217]\n",
            "Не получилось отвергнуть нулевую гипотезу, нет оснований считать доли разными\n",
            "\n"
          ]
        }
      ],
      "source": [
        "for event in event_names:\n",
        "  z_test(0.05, event, 246, 248, 'all_246', 'all_248')\n",
        "  print( )"
      ]
    },
    {
      "cell_type": "markdown",
      "metadata": {
        "id": "EY6JiTvUgeSM"
      },
      "source": [
        "***Сформулируем гипотезы***\n",
        "\n",
        "H0: различий в долях групп 247 и 248 нет.\n",
        "\n",
        "H1: между долями есть значимая разница."
      ]
    },
    {
      "cell_type": "code",
      "execution_count": 38,
      "metadata": {
        "colab": {
          "base_uri": "https://localhost:8080/"
        },
        "id": "8ZgDaqx6OBsU",
        "outputId": "3505bb20-7103-4fb4-8351-18b52ef173b9"
      },
      "outputs": [
        {
          "output_type": "stream",
          "name": "stdout",
          "text": [
            "Результаты теста для групп 247 и 248\n",
            "Событие MainScreenAppear\n",
            "p_value:  [0.519]\n",
            "Не получилось отвергнуть нулевую гипотезу, нет оснований считать доли разными\n",
            "\n",
            "Результаты теста для групп 247 и 248\n",
            "Событие OffersScreenAppear\n",
            "p_value:  [0.933]\n",
            "Не получилось отвергнуть нулевую гипотезу, нет оснований считать доли разными\n",
            "\n",
            "Результаты теста для групп 247 и 248\n",
            "Событие CartScreenAppear\n",
            "p_value:  [0.588]\n",
            "Не получилось отвергнуть нулевую гипотезу, нет оснований считать доли разными\n",
            "\n",
            "Результаты теста для групп 247 и 248\n",
            "Событие PaymentScreenSuccessful\n",
            "p_value:  [0.728]\n",
            "Не получилось отвергнуть нулевую гипотезу, нет оснований считать доли разными\n",
            "\n"
          ]
        }
      ],
      "source": [
        "for event in event_names:\n",
        "  z_test(0.05, event, 247, 248, 'all_247', 'all_248')\n",
        "  print( )"
      ]
    },
    {
      "cell_type": "markdown",
      "metadata": {
        "id": "Pq-6YcOThBq2"
      },
      "source": [
        "Для того что бы провести тест по объединенной контрольной группе нужно немного доработать сводную таблицу с данными."
      ]
    },
    {
      "cell_type": "code",
      "execution_count": 39,
      "metadata": {
        "colab": {
          "base_uri": "https://localhost:8080/",
          "height": 175
        },
        "id": "Rrzt-wJg3fqZ",
        "outputId": "8dd7086d-caf3-46af-f6a6-5a4eb9ce3b85"
      },
      "outputs": [
        {
          "output_type": "execute_result",
          "data": {
            "text/plain": [
              "group                    event   246   247   248 conv_246 conv_247 conv_248  \\\n",
              "0             MainScreenAppear  2450  2476  2493   98.67%   98.57%   98.34%   \n",
              "1           OffersScreenAppear  1542  1520  1531   62.10%   60.51%   60.39%   \n",
              "2             CartScreenAppear  1266  1238  1230   50.99%   49.28%   48.52%   \n",
              "3      PaymentScreenSuccessful  1200  1158  1181   48.33%   46.10%   46.59%   \n",
              "\n",
              "group conv_246_per_step conv_247_per_step conv_248_per_step  all_246  all_247  \\\n",
              "0                  nan%              nan%              nan%     2483     2512   \n",
              "1                62.94%            61.39%            61.41%     2483     2512   \n",
              "2                82.10%            81.45%            80.34%     2483     2512   \n",
              "3                94.79%            93.54%            96.02%     2483     2512   \n",
              "\n",
              "group  all_248  246+247  all_246_247  \n",
              "0         2535     4926         4995  \n",
              "1         2535     3062         4995  \n",
              "2         2535     2504         4995  \n",
              "3         2535     2358         4995  "
            ],
            "text/html": [
              "\n",
              "  <div id=\"df-f45c194a-eaa4-41b8-a2b3-c725186846c0\">\n",
              "    <div class=\"colab-df-container\">\n",
              "      <div>\n",
              "<style scoped>\n",
              "    .dataframe tbody tr th:only-of-type {\n",
              "        vertical-align: middle;\n",
              "    }\n",
              "\n",
              "    .dataframe tbody tr th {\n",
              "        vertical-align: top;\n",
              "    }\n",
              "\n",
              "    .dataframe thead th {\n",
              "        text-align: right;\n",
              "    }\n",
              "</style>\n",
              "<table border=\"1\" class=\"dataframe\">\n",
              "  <thead>\n",
              "    <tr style=\"text-align: right;\">\n",
              "      <th>group</th>\n",
              "      <th>event</th>\n",
              "      <th>246</th>\n",
              "      <th>247</th>\n",
              "      <th>248</th>\n",
              "      <th>conv_246</th>\n",
              "      <th>conv_247</th>\n",
              "      <th>conv_248</th>\n",
              "      <th>conv_246_per_step</th>\n",
              "      <th>conv_247_per_step</th>\n",
              "      <th>conv_248_per_step</th>\n",
              "      <th>all_246</th>\n",
              "      <th>all_247</th>\n",
              "      <th>all_248</th>\n",
              "      <th>246+247</th>\n",
              "      <th>all_246_247</th>\n",
              "    </tr>\n",
              "  </thead>\n",
              "  <tbody>\n",
              "    <tr>\n",
              "      <th>0</th>\n",
              "      <td>MainScreenAppear</td>\n",
              "      <td>2450</td>\n",
              "      <td>2476</td>\n",
              "      <td>2493</td>\n",
              "      <td>98.67%</td>\n",
              "      <td>98.57%</td>\n",
              "      <td>98.34%</td>\n",
              "      <td>nan%</td>\n",
              "      <td>nan%</td>\n",
              "      <td>nan%</td>\n",
              "      <td>2483</td>\n",
              "      <td>2512</td>\n",
              "      <td>2535</td>\n",
              "      <td>4926</td>\n",
              "      <td>4995</td>\n",
              "    </tr>\n",
              "    <tr>\n",
              "      <th>1</th>\n",
              "      <td>OffersScreenAppear</td>\n",
              "      <td>1542</td>\n",
              "      <td>1520</td>\n",
              "      <td>1531</td>\n",
              "      <td>62.10%</td>\n",
              "      <td>60.51%</td>\n",
              "      <td>60.39%</td>\n",
              "      <td>62.94%</td>\n",
              "      <td>61.39%</td>\n",
              "      <td>61.41%</td>\n",
              "      <td>2483</td>\n",
              "      <td>2512</td>\n",
              "      <td>2535</td>\n",
              "      <td>3062</td>\n",
              "      <td>4995</td>\n",
              "    </tr>\n",
              "    <tr>\n",
              "      <th>2</th>\n",
              "      <td>CartScreenAppear</td>\n",
              "      <td>1266</td>\n",
              "      <td>1238</td>\n",
              "      <td>1230</td>\n",
              "      <td>50.99%</td>\n",
              "      <td>49.28%</td>\n",
              "      <td>48.52%</td>\n",
              "      <td>82.10%</td>\n",
              "      <td>81.45%</td>\n",
              "      <td>80.34%</td>\n",
              "      <td>2483</td>\n",
              "      <td>2512</td>\n",
              "      <td>2535</td>\n",
              "      <td>2504</td>\n",
              "      <td>4995</td>\n",
              "    </tr>\n",
              "    <tr>\n",
              "      <th>3</th>\n",
              "      <td>PaymentScreenSuccessful</td>\n",
              "      <td>1200</td>\n",
              "      <td>1158</td>\n",
              "      <td>1181</td>\n",
              "      <td>48.33%</td>\n",
              "      <td>46.10%</td>\n",
              "      <td>46.59%</td>\n",
              "      <td>94.79%</td>\n",
              "      <td>93.54%</td>\n",
              "      <td>96.02%</td>\n",
              "      <td>2483</td>\n",
              "      <td>2512</td>\n",
              "      <td>2535</td>\n",
              "      <td>2358</td>\n",
              "      <td>4995</td>\n",
              "    </tr>\n",
              "  </tbody>\n",
              "</table>\n",
              "</div>\n",
              "      <button class=\"colab-df-convert\" onclick=\"convertToInteractive('df-f45c194a-eaa4-41b8-a2b3-c725186846c0')\"\n",
              "              title=\"Convert this dataframe to an interactive table.\"\n",
              "              style=\"display:none;\">\n",
              "        \n",
              "  <svg xmlns=\"http://www.w3.org/2000/svg\" height=\"24px\"viewBox=\"0 0 24 24\"\n",
              "       width=\"24px\">\n",
              "    <path d=\"M0 0h24v24H0V0z\" fill=\"none\"/>\n",
              "    <path d=\"M18.56 5.44l.94 2.06.94-2.06 2.06-.94-2.06-.94-.94-2.06-.94 2.06-2.06.94zm-11 1L8.5 8.5l.94-2.06 2.06-.94-2.06-.94L8.5 2.5l-.94 2.06-2.06.94zm10 10l.94 2.06.94-2.06 2.06-.94-2.06-.94-.94-2.06-.94 2.06-2.06.94z\"/><path d=\"M17.41 7.96l-1.37-1.37c-.4-.4-.92-.59-1.43-.59-.52 0-1.04.2-1.43.59L10.3 9.45l-7.72 7.72c-.78.78-.78 2.05 0 2.83L4 21.41c.39.39.9.59 1.41.59.51 0 1.02-.2 1.41-.59l7.78-7.78 2.81-2.81c.8-.78.8-2.07 0-2.86zM5.41 20L4 18.59l7.72-7.72 1.47 1.35L5.41 20z\"/>\n",
              "  </svg>\n",
              "      </button>\n",
              "      \n",
              "  <style>\n",
              "    .colab-df-container {\n",
              "      display:flex;\n",
              "      flex-wrap:wrap;\n",
              "      gap: 12px;\n",
              "    }\n",
              "\n",
              "    .colab-df-convert {\n",
              "      background-color: #E8F0FE;\n",
              "      border: none;\n",
              "      border-radius: 50%;\n",
              "      cursor: pointer;\n",
              "      display: none;\n",
              "      fill: #1967D2;\n",
              "      height: 32px;\n",
              "      padding: 0 0 0 0;\n",
              "      width: 32px;\n",
              "    }\n",
              "\n",
              "    .colab-df-convert:hover {\n",
              "      background-color: #E2EBFA;\n",
              "      box-shadow: 0px 1px 2px rgba(60, 64, 67, 0.3), 0px 1px 3px 1px rgba(60, 64, 67, 0.15);\n",
              "      fill: #174EA6;\n",
              "    }\n",
              "\n",
              "    [theme=dark] .colab-df-convert {\n",
              "      background-color: #3B4455;\n",
              "      fill: #D2E3FC;\n",
              "    }\n",
              "\n",
              "    [theme=dark] .colab-df-convert:hover {\n",
              "      background-color: #434B5C;\n",
              "      box-shadow: 0px 1px 3px 1px rgba(0, 0, 0, 0.15);\n",
              "      filter: drop-shadow(0px 1px 2px rgba(0, 0, 0, 0.3));\n",
              "      fill: #FFFFFF;\n",
              "    }\n",
              "  </style>\n",
              "\n",
              "      <script>\n",
              "        const buttonEl =\n",
              "          document.querySelector('#df-f45c194a-eaa4-41b8-a2b3-c725186846c0 button.colab-df-convert');\n",
              "        buttonEl.style.display =\n",
              "          google.colab.kernel.accessAllowed ? 'block' : 'none';\n",
              "\n",
              "        async function convertToInteractive(key) {\n",
              "          const element = document.querySelector('#df-f45c194a-eaa4-41b8-a2b3-c725186846c0');\n",
              "          const dataTable =\n",
              "            await google.colab.kernel.invokeFunction('convertToInteractive',\n",
              "                                                     [key], {});\n",
              "          if (!dataTable) return;\n",
              "\n",
              "          const docLinkHtml = 'Like what you see? Visit the ' +\n",
              "            '<a target=\"_blank\" href=https://colab.research.google.com/notebooks/data_table.ipynb>data table notebook</a>'\n",
              "            + ' to learn more about interactive tables.';\n",
              "          element.innerHTML = '';\n",
              "          dataTable['output_type'] = 'display_data';\n",
              "          await google.colab.output.renderOutput(dataTable, element);\n",
              "          const docLink = document.createElement('div');\n",
              "          docLink.innerHTML = docLinkHtml;\n",
              "          element.appendChild(docLink);\n",
              "        }\n",
              "      </script>\n",
              "    </div>\n",
              "  </div>\n",
              "  "
            ]
          },
          "metadata": {},
          "execution_count": 39
        }
      ],
      "source": [
        "test['246+247']= test[246]+test[247]\n",
        "test['all_246_247']= test['all_246']+test['all_247']\n",
        "test"
      ]
    },
    {
      "cell_type": "markdown",
      "metadata": {
        "id": "BTqxSTc-jl8Z"
      },
      "source": [
        "***Сформулируем гипотезы***\n",
        "\n",
        "H0: различий в долях между объединенныной контрольной группой 246 и 247 и экспериментальной 248 нет.\n",
        "\n",
        "H1: между долями есть значимая разница.\n"
      ]
    },
    {
      "cell_type": "code",
      "execution_count": 40,
      "metadata": {
        "colab": {
          "base_uri": "https://localhost:8080/"
        },
        "id": "K4lOLYvFiqHQ",
        "outputId": "a1007e63-5644-4171-bdfa-b63ae550eec0"
      },
      "outputs": [
        {
          "output_type": "stream",
          "name": "stdout",
          "text": [
            "Результаты теста для групп 246+247 и 248\n",
            "Событие MainScreenAppear\n",
            "p_value:  [0.349]\n",
            "Не получилось отвергнуть нулевую гипотезу, нет оснований считать доли разными\n",
            "\n",
            "Результаты теста для групп 246+247 и 248\n",
            "Событие OffersScreenAppear\n",
            "p_value:  [0.446]\n",
            "Не получилось отвергнуть нулевую гипотезу, нет оснований считать доли разными\n",
            "\n",
            "Результаты теста для групп 246+247 и 248\n",
            "Событие CartScreenAppear\n",
            "p_value:  [0.187]\n",
            "Не получилось отвергнуть нулевую гипотезу, нет оснований считать доли разными\n",
            "\n",
            "Результаты теста для групп 246+247 и 248\n",
            "Событие PaymentScreenSuccessful\n",
            "p_value:  [0.611]\n",
            "Не получилось отвергнуть нулевую гипотезу, нет оснований считать доли разными\n",
            "\n"
          ]
        }
      ],
      "source": [
        "for event in event_names:\n",
        "  z_test(0.05, event, '246+247', 248, 'all_246_247', 'all_248')\n",
        "  print( )"
      ]
    },
    {
      "cell_type": "markdown",
      "metadata": {
        "id": "gtexSIUvm6WV"
      },
      "source": [
        "Изначально для проверки статистических гипотез был выбран уровень значисости 0.05.\n",
        "Но с учетом того, что у нас проводились множественные проверки, для снижения вероятности ложнопозитивного результа нужно применить метод корректировки уровня значимости, например Бонферрони, поделя уровень значимости на число проверок гипотез. В нашем случае было 16 проверок, и скорректированный уровень значимости равен 0,0031.\n",
        "При этом нужно помнить, что боясь совершить ошибку первого рода и уменьшая уровень значимости мы рискуем множество успешных экспериментов признать не успешными.\n",
        "\n",
        "С учетов того, что ни в одном из проведенных тестов уровень p-value не опускался ниже 0.081 принято решение не проводить повторно проверку гипотез со скорректированным уровнем значимости, т.к. это в нашем случае не повлияет на результат.\n",
        "\n"
      ]
    },
    {
      "cell_type": "markdown",
      "metadata": {
        "id": "915h26Tsv7Ec"
      },
      "source": [
        "### **Выводы по разделу Изучение результатов эксперимента**\n",
        "Согласно всем проведенным тестам различия между контрольными группами 246 и 247 и экспериментальной 248 являются статистически незначимыми.\n",
        "Таким образом можно сказать, изменение шрифтов не повлияло на взаимодействие пользователей с приложением. Пользователи переходят от события к событию в тех же долях, как и до изменения шрифта в приложении."
      ]
    },
    {
      "cell_type": "markdown",
      "metadata": {
        "id": "S9dv7Ud3rydb"
      },
      "source": [
        "## **Выводы по проделанной работе**\n",
        "\n",
        "Была проведена аналитическая работа по данным стартапа, который продаёт продукты питания. Было необходимо разобраться как ведут себя пользователи их мобильного приложения.\n",
        "\n",
        "На начальном этапе выполнена предобработка данных, после чего была изучена воронка продаж и получены следующеи выводы:\n",
        "\n",
        "1. Пользователи доходят до покупки в 4 этапа:\n",
        "- MainScreenAppear - Появление главного экрана\n",
        "- OffersScreenAppear - Появление экрана предложений\n",
        "- CartScreenAppear - Появление экрана корзины\n",
        "- PaymentScreenSuccessful - Появление экрана Успешный платёж\n",
        "\n",
        "А вот событие Tutorial (Руководство пользователя) имеет очень маленькую конверсию, и по логике к мену могу обратиться на любом из этапов при необходимости, но делают это редко. Поэтому оно не является частью воронки.\n",
        "\n",
        "2. 7419 пользователей заходили на главный экран мобильного приложения. Доля пользователей, которые хоть раз совершили событие составила 37,51%.\n",
        "\n",
        "3. До совершения оплаты покупки, доля пользователей проходящих на следующий шаг воронки самая высокая при переходе с шага CartScreenAppear (Появление экрана корзины) на шаг PaymentScreenSuccessful (Появление экрана Успешный платёж), почти 95%. А вот при переходе с главного экрана на экран предложений она составляет чуть менее 62%.\n",
        "\n",
        "4. Больше всего пользователей теряется на втором шаге при переходе от главного экрана на экран предложений, доля потерь составляет 37.51% от первоначального объема.\n",
        "\n",
        "5. Доля пользователей доходящих от первого события до оплаты составляет 46,97% (3539 пользователей).\n",
        "\n",
        "Далее были исследованы результаты A/A/B-эксперимента, проведены тесты о различии статистических критериев между контрольными и экспериментальной группами.\n",
        "\n",
        "Согласно всем проведенным тестам различия между контрольными группами 246 и 247 и экспериментальной 248 являются статистически незначимыми. Таким образом можно сказать, изменение шрифтов не повлияло на взаимодействие пользователей с приложением. Пользователи переходят от события к событию в тех же долях, как и до изменения шрифта в приложении.\n",
        "\n"
      ]
    }
  ],
  "metadata": {
    "ExecuteTimeLog": [
      {
        "duration": 1226,
        "start_time": "2023-04-04T11:32:41.292Z"
      },
      {
        "duration": 636,
        "start_time": "2023-04-04T11:32:42.520Z"
      },
      {
        "duration": 31,
        "start_time": "2023-04-04T11:32:43.158Z"
      },
      {
        "duration": 27,
        "start_time": "2023-04-04T11:32:43.191Z"
      },
      {
        "duration": 3,
        "start_time": "2023-04-04T11:32:43.220Z"
      },
      {
        "duration": 160,
        "start_time": "2023-04-04T11:32:43.225Z"
      },
      {
        "duration": 3,
        "start_time": "2023-04-04T11:32:43.392Z"
      },
      {
        "duration": 32,
        "start_time": "2023-04-04T11:32:43.397Z"
      },
      {
        "duration": 76,
        "start_time": "2023-04-04T11:32:43.430Z"
      },
      {
        "duration": 69,
        "start_time": "2023-04-04T11:32:43.509Z"
      },
      {
        "duration": 23,
        "start_time": "2023-04-04T11:32:43.583Z"
      },
      {
        "duration": 19,
        "start_time": "2023-04-04T11:32:43.608Z"
      },
      {
        "duration": 49,
        "start_time": "2023-04-04T11:32:43.629Z"
      },
      {
        "duration": 30,
        "start_time": "2023-04-04T11:32:43.680Z"
      },
      {
        "duration": 7,
        "start_time": "2023-04-04T11:32:43.712Z"
      },
      {
        "duration": 20,
        "start_time": "2023-04-04T11:32:43.721Z"
      },
      {
        "duration": 338,
        "start_time": "2023-04-04T11:32:43.742Z"
      },
      {
        "duration": 16,
        "start_time": "2023-04-04T11:32:44.083Z"
      },
      {
        "duration": 45,
        "start_time": "2023-04-04T11:32:44.101Z"
      },
      {
        "duration": 49,
        "start_time": "2023-04-04T11:32:44.148Z"
      },
      {
        "duration": 14,
        "start_time": "2023-04-04T11:32:44.205Z"
      },
      {
        "duration": 63,
        "start_time": "2023-04-04T11:32:44.221Z"
      },
      {
        "duration": 57,
        "start_time": "2023-04-04T11:32:44.289Z"
      },
      {
        "duration": 40,
        "start_time": "2023-04-04T11:32:44.348Z"
      },
      {
        "duration": 90,
        "start_time": "2023-04-04T11:32:44.390Z"
      },
      {
        "duration": 41,
        "start_time": "2023-04-04T11:32:44.482Z"
      },
      {
        "duration": 67,
        "start_time": "2023-04-04T11:32:44.525Z"
      },
      {
        "duration": 75,
        "start_time": "2023-04-04T11:32:44.597Z"
      },
      {
        "duration": 38,
        "start_time": "2023-04-04T11:32:44.673Z"
      },
      {
        "duration": 26,
        "start_time": "2023-04-04T11:32:44.712Z"
      },
      {
        "duration": 40,
        "start_time": "2023-04-04T11:32:44.739Z"
      },
      {
        "duration": 8,
        "start_time": "2023-04-04T11:32:44.786Z"
      },
      {
        "duration": 10,
        "start_time": "2023-04-04T11:32:44.797Z"
      },
      {
        "duration": 21,
        "start_time": "2023-04-04T11:32:44.809Z"
      },
      {
        "duration": 34,
        "start_time": "2023-04-04T11:32:44.832Z"
      },
      {
        "duration": 22,
        "start_time": "2023-04-04T11:32:44.868Z"
      },
      {
        "duration": 18,
        "start_time": "2023-04-04T11:32:44.892Z"
      },
      {
        "duration": 17,
        "start_time": "2023-04-04T11:32:44.912Z"
      },
      {
        "duration": 1408,
        "start_time": "2023-04-05T08:19:51.791Z"
      },
      {
        "duration": 383,
        "start_time": "2023-04-05T08:19:53.201Z"
      },
      {
        "duration": 11,
        "start_time": "2023-04-05T08:19:53.586Z"
      },
      {
        "duration": 39,
        "start_time": "2023-04-05T08:19:53.599Z"
      },
      {
        "duration": 3,
        "start_time": "2023-04-05T08:19:53.640Z"
      },
      {
        "duration": 144,
        "start_time": "2023-04-05T08:19:53.644Z"
      },
      {
        "duration": 3,
        "start_time": "2023-04-05T08:19:53.789Z"
      },
      {
        "duration": 50,
        "start_time": "2023-04-05T08:19:53.794Z"
      },
      {
        "duration": 89,
        "start_time": "2023-04-05T08:19:53.845Z"
      },
      {
        "duration": 67,
        "start_time": "2023-04-05T08:19:53.937Z"
      },
      {
        "duration": 15,
        "start_time": "2023-04-05T08:19:54.006Z"
      },
      {
        "duration": 18,
        "start_time": "2023-04-05T08:19:54.023Z"
      },
      {
        "duration": 47,
        "start_time": "2023-04-05T08:19:54.043Z"
      },
      {
        "duration": 44,
        "start_time": "2023-04-05T08:19:54.092Z"
      },
      {
        "duration": 20,
        "start_time": "2023-04-05T08:19:54.137Z"
      },
      {
        "duration": 45,
        "start_time": "2023-04-05T08:19:54.159Z"
      },
      {
        "duration": 264,
        "start_time": "2023-04-05T08:19:54.206Z"
      },
      {
        "duration": 19,
        "start_time": "2023-04-05T08:19:54.472Z"
      },
      {
        "duration": 26,
        "start_time": "2023-04-05T08:19:54.493Z"
      },
      {
        "duration": 18,
        "start_time": "2023-04-05T08:19:54.521Z"
      },
      {
        "duration": 13,
        "start_time": "2023-04-05T08:19:54.540Z"
      },
      {
        "duration": 57,
        "start_time": "2023-04-05T08:19:54.555Z"
      },
      {
        "duration": 42,
        "start_time": "2023-04-05T08:19:54.614Z"
      },
      {
        "duration": 49,
        "start_time": "2023-04-05T08:19:54.658Z"
      },
      {
        "duration": 98,
        "start_time": "2023-04-05T08:19:54.709Z"
      },
      {
        "duration": 147,
        "start_time": "2023-04-05T08:19:54.809Z"
      },
      {
        "duration": 0,
        "start_time": "2023-04-05T08:19:54.958Z"
      },
      {
        "duration": 0,
        "start_time": "2023-04-05T08:19:54.961Z"
      },
      {
        "duration": 0,
        "start_time": "2023-04-05T08:19:54.963Z"
      },
      {
        "duration": 0,
        "start_time": "2023-04-05T08:19:54.964Z"
      },
      {
        "duration": 0,
        "start_time": "2023-04-05T08:19:54.965Z"
      },
      {
        "duration": 0,
        "start_time": "2023-04-05T08:19:54.983Z"
      },
      {
        "duration": 0,
        "start_time": "2023-04-05T08:19:54.984Z"
      },
      {
        "duration": 0,
        "start_time": "2023-04-05T08:19:54.986Z"
      },
      {
        "duration": 0,
        "start_time": "2023-04-05T08:19:54.989Z"
      },
      {
        "duration": 0,
        "start_time": "2023-04-05T08:19:54.989Z"
      },
      {
        "duration": 0,
        "start_time": "2023-04-05T08:19:54.991Z"
      },
      {
        "duration": 0,
        "start_time": "2023-04-05T08:19:54.992Z"
      },
      {
        "duration": 0,
        "start_time": "2023-04-05T08:19:54.993Z"
      },
      {
        "duration": 3,
        "start_time": "2023-04-05T08:20:35.456Z"
      },
      {
        "duration": 368,
        "start_time": "2023-04-05T08:20:35.460Z"
      },
      {
        "duration": 6,
        "start_time": "2023-04-05T08:20:35.830Z"
      },
      {
        "duration": 21,
        "start_time": "2023-04-05T08:20:35.838Z"
      },
      {
        "duration": 3,
        "start_time": "2023-04-05T08:20:35.861Z"
      },
      {
        "duration": 156,
        "start_time": "2023-04-05T08:20:35.865Z"
      },
      {
        "duration": 3,
        "start_time": "2023-04-05T08:20:36.025Z"
      },
      {
        "duration": 47,
        "start_time": "2023-04-05T08:20:36.029Z"
      },
      {
        "duration": 73,
        "start_time": "2023-04-05T08:20:36.077Z"
      },
      {
        "duration": 73,
        "start_time": "2023-04-05T08:20:36.153Z"
      },
      {
        "duration": 18,
        "start_time": "2023-04-05T08:20:36.228Z"
      },
      {
        "duration": 19,
        "start_time": "2023-04-05T08:20:36.248Z"
      },
      {
        "duration": 47,
        "start_time": "2023-04-05T08:20:36.269Z"
      },
      {
        "duration": 26,
        "start_time": "2023-04-05T08:20:36.317Z"
      },
      {
        "duration": 31,
        "start_time": "2023-04-05T08:20:36.345Z"
      },
      {
        "duration": 26,
        "start_time": "2023-04-05T08:20:36.377Z"
      },
      {
        "duration": 168,
        "start_time": "2023-04-05T08:20:36.405Z"
      },
      {
        "duration": 18,
        "start_time": "2023-04-05T08:20:36.575Z"
      },
      {
        "duration": 34,
        "start_time": "2023-04-05T08:20:36.595Z"
      },
      {
        "duration": 22,
        "start_time": "2023-04-05T08:20:36.631Z"
      },
      {
        "duration": 14,
        "start_time": "2023-04-05T08:20:36.654Z"
      },
      {
        "duration": 45,
        "start_time": "2023-04-05T08:20:36.670Z"
      },
      {
        "duration": 40,
        "start_time": "2023-04-05T08:20:36.716Z"
      },
      {
        "duration": 34,
        "start_time": "2023-04-05T08:20:36.758Z"
      },
      {
        "duration": 92,
        "start_time": "2023-04-05T08:20:36.793Z"
      },
      {
        "duration": 11,
        "start_time": "2023-04-05T08:20:36.887Z"
      },
      {
        "duration": 48,
        "start_time": "2023-04-05T08:20:36.900Z"
      },
      {
        "duration": 40,
        "start_time": "2023-04-05T08:20:36.952Z"
      },
      {
        "duration": 65,
        "start_time": "2023-04-05T08:20:36.993Z"
      },
      {
        "duration": 42,
        "start_time": "2023-04-05T08:20:37.060Z"
      },
      {
        "duration": 27,
        "start_time": "2023-04-05T08:20:37.104Z"
      },
      {
        "duration": 33,
        "start_time": "2023-04-05T08:20:37.133Z"
      },
      {
        "duration": 4,
        "start_time": "2023-04-05T08:20:37.168Z"
      },
      {
        "duration": 31,
        "start_time": "2023-04-05T08:20:37.174Z"
      },
      {
        "duration": 34,
        "start_time": "2023-04-05T08:20:37.207Z"
      },
      {
        "duration": 32,
        "start_time": "2023-04-05T08:20:37.243Z"
      },
      {
        "duration": 21,
        "start_time": "2023-04-05T08:20:37.277Z"
      },
      {
        "duration": 29,
        "start_time": "2023-04-05T08:20:37.300Z"
      },
      {
        "duration": 46,
        "start_time": "2023-04-05T08:20:37.331Z"
      },
      {
        "duration": 85,
        "start_time": "2023-04-05T08:28:36.076Z"
      },
      {
        "duration": 631,
        "start_time": "2023-04-05T08:28:36.183Z"
      },
      {
        "duration": 7,
        "start_time": "2023-04-05T08:28:36.816Z"
      },
      {
        "duration": 65,
        "start_time": "2023-04-05T08:28:36.825Z"
      },
      {
        "duration": 35,
        "start_time": "2023-04-05T08:28:36.894Z"
      },
      {
        "duration": 191,
        "start_time": "2023-04-05T08:28:36.931Z"
      },
      {
        "duration": 3,
        "start_time": "2023-04-05T08:28:37.123Z"
      },
      {
        "duration": 49,
        "start_time": "2023-04-05T08:28:37.127Z"
      },
      {
        "duration": 97,
        "start_time": "2023-04-05T08:28:37.178Z"
      },
      {
        "duration": 70,
        "start_time": "2023-04-05T08:28:37.277Z"
      },
      {
        "duration": 15,
        "start_time": "2023-04-05T08:28:37.349Z"
      },
      {
        "duration": 38,
        "start_time": "2023-04-05T08:28:37.366Z"
      },
      {
        "duration": 66,
        "start_time": "2023-04-05T08:28:37.406Z"
      },
      {
        "duration": 80,
        "start_time": "2023-04-05T08:28:37.474Z"
      },
      {
        "duration": 25,
        "start_time": "2023-04-05T08:28:37.556Z"
      },
      {
        "duration": 48,
        "start_time": "2023-04-05T08:28:37.582Z"
      },
      {
        "duration": 177,
        "start_time": "2023-04-05T08:28:37.632Z"
      },
      {
        "duration": 13,
        "start_time": "2023-04-05T08:28:37.811Z"
      },
      {
        "duration": 49,
        "start_time": "2023-04-05T08:28:37.825Z"
      },
      {
        "duration": 57,
        "start_time": "2023-04-05T08:28:37.877Z"
      },
      {
        "duration": 35,
        "start_time": "2023-04-05T08:28:37.936Z"
      },
      {
        "duration": 111,
        "start_time": "2023-04-05T08:28:37.973Z"
      },
      {
        "duration": 49,
        "start_time": "2023-04-05T08:28:38.090Z"
      },
      {
        "duration": 25,
        "start_time": "2023-04-05T08:28:38.141Z"
      },
      {
        "duration": 102,
        "start_time": "2023-04-05T08:28:38.167Z"
      },
      {
        "duration": 20,
        "start_time": "2023-04-05T08:28:38.270Z"
      },
      {
        "duration": 17,
        "start_time": "2023-04-05T08:28:38.299Z"
      },
      {
        "duration": 332,
        "start_time": "2023-04-05T08:28:38.319Z"
      },
      {
        "duration": 0,
        "start_time": "2023-04-05T08:28:38.653Z"
      },
      {
        "duration": 0,
        "start_time": "2023-04-05T08:28:38.654Z"
      },
      {
        "duration": 0,
        "start_time": "2023-04-05T08:28:38.655Z"
      },
      {
        "duration": 0,
        "start_time": "2023-04-05T08:28:38.656Z"
      },
      {
        "duration": 0,
        "start_time": "2023-04-05T08:28:38.657Z"
      },
      {
        "duration": 0,
        "start_time": "2023-04-05T08:28:38.658Z"
      },
      {
        "duration": 0,
        "start_time": "2023-04-05T08:28:38.660Z"
      },
      {
        "duration": 0,
        "start_time": "2023-04-05T08:28:38.661Z"
      },
      {
        "duration": 0,
        "start_time": "2023-04-05T08:28:38.662Z"
      },
      {
        "duration": 0,
        "start_time": "2023-04-05T08:28:38.683Z"
      },
      {
        "duration": 0,
        "start_time": "2023-04-05T08:28:38.695Z"
      },
      {
        "duration": 0,
        "start_time": "2023-04-05T08:28:38.696Z"
      },
      {
        "duration": 0,
        "start_time": "2023-04-05T08:28:38.696Z"
      },
      {
        "duration": 4,
        "start_time": "2023-04-05T08:28:54.574Z"
      },
      {
        "duration": 618,
        "start_time": "2023-04-05T08:28:54.579Z"
      },
      {
        "duration": 9,
        "start_time": "2023-04-05T08:28:55.199Z"
      },
      {
        "duration": 30,
        "start_time": "2023-04-05T08:28:55.210Z"
      },
      {
        "duration": 10,
        "start_time": "2023-04-05T08:28:55.242Z"
      },
      {
        "duration": 156,
        "start_time": "2023-04-05T08:28:55.254Z"
      },
      {
        "duration": 2,
        "start_time": "2023-04-05T08:28:55.412Z"
      },
      {
        "duration": 51,
        "start_time": "2023-04-05T08:28:55.415Z"
      },
      {
        "duration": 77,
        "start_time": "2023-04-05T08:28:55.467Z"
      },
      {
        "duration": 57,
        "start_time": "2023-04-05T08:28:55.548Z"
      },
      {
        "duration": 19,
        "start_time": "2023-04-05T08:28:55.607Z"
      },
      {
        "duration": 23,
        "start_time": "2023-04-05T08:28:55.627Z"
      },
      {
        "duration": 38,
        "start_time": "2023-04-05T08:28:55.652Z"
      },
      {
        "duration": 38,
        "start_time": "2023-04-05T08:28:55.692Z"
      },
      {
        "duration": 32,
        "start_time": "2023-04-05T08:28:55.732Z"
      },
      {
        "duration": 57,
        "start_time": "2023-04-05T08:28:55.765Z"
      },
      {
        "duration": 286,
        "start_time": "2023-04-05T08:28:55.823Z"
      },
      {
        "duration": 12,
        "start_time": "2023-04-05T08:28:56.112Z"
      },
      {
        "duration": 57,
        "start_time": "2023-04-05T08:28:56.125Z"
      },
      {
        "duration": 53,
        "start_time": "2023-04-05T08:28:56.190Z"
      },
      {
        "duration": 11,
        "start_time": "2023-04-05T08:28:56.245Z"
      },
      {
        "duration": 44,
        "start_time": "2023-04-05T08:28:56.258Z"
      },
      {
        "duration": 40,
        "start_time": "2023-04-05T08:28:56.304Z"
      },
      {
        "duration": 49,
        "start_time": "2023-04-05T08:28:56.346Z"
      },
      {
        "duration": 66,
        "start_time": "2023-04-05T08:28:56.397Z"
      },
      {
        "duration": 10,
        "start_time": "2023-04-05T08:28:56.465Z"
      },
      {
        "duration": 5,
        "start_time": "2023-04-05T08:28:56.483Z"
      },
      {
        "duration": 369,
        "start_time": "2023-04-05T08:28:56.492Z"
      },
      {
        "duration": 41,
        "start_time": "2023-04-05T08:28:56.863Z"
      },
      {
        "duration": 96,
        "start_time": "2023-04-05T08:28:56.905Z"
      },
      {
        "duration": 143,
        "start_time": "2023-04-05T08:28:57.003Z"
      },
      {
        "duration": 42,
        "start_time": "2023-04-05T08:28:57.148Z"
      },
      {
        "duration": 31,
        "start_time": "2023-04-05T08:28:57.195Z"
      },
      {
        "duration": 17,
        "start_time": "2023-04-05T08:28:57.228Z"
      },
      {
        "duration": 7,
        "start_time": "2023-04-05T08:28:57.247Z"
      },
      {
        "duration": 14,
        "start_time": "2023-04-05T08:28:57.256Z"
      },
      {
        "duration": 22,
        "start_time": "2023-04-05T08:28:57.272Z"
      },
      {
        "duration": 39,
        "start_time": "2023-04-05T08:28:57.296Z"
      },
      {
        "duration": 18,
        "start_time": "2023-04-05T08:28:57.336Z"
      },
      {
        "duration": 38,
        "start_time": "2023-04-05T08:28:57.356Z"
      },
      {
        "duration": 34,
        "start_time": "2023-04-05T08:28:57.396Z"
      },
      {
        "duration": 5,
        "start_time": "2023-04-05T08:34:01.414Z"
      },
      {
        "duration": 386,
        "start_time": "2023-04-05T08:34:01.421Z"
      },
      {
        "duration": 10,
        "start_time": "2023-04-05T08:34:01.809Z"
      },
      {
        "duration": 69,
        "start_time": "2023-04-05T08:34:01.822Z"
      },
      {
        "duration": 4,
        "start_time": "2023-04-05T08:34:01.894Z"
      },
      {
        "duration": 197,
        "start_time": "2023-04-05T08:34:01.900Z"
      },
      {
        "duration": 3,
        "start_time": "2023-04-05T08:34:02.099Z"
      },
      {
        "duration": 48,
        "start_time": "2023-04-05T08:34:02.104Z"
      },
      {
        "duration": 64,
        "start_time": "2023-04-05T08:34:02.154Z"
      },
      {
        "duration": 64,
        "start_time": "2023-04-05T08:34:02.221Z"
      },
      {
        "duration": 25,
        "start_time": "2023-04-05T08:34:02.287Z"
      },
      {
        "duration": 18,
        "start_time": "2023-04-05T08:34:02.314Z"
      },
      {
        "duration": 23,
        "start_time": "2023-04-05T08:34:02.334Z"
      },
      {
        "duration": 64,
        "start_time": "2023-04-05T08:34:02.358Z"
      },
      {
        "duration": 27,
        "start_time": "2023-04-05T08:34:02.424Z"
      },
      {
        "duration": 24,
        "start_time": "2023-04-05T08:34:02.452Z"
      },
      {
        "duration": 198,
        "start_time": "2023-04-05T08:34:02.477Z"
      },
      {
        "duration": 15,
        "start_time": "2023-04-05T08:34:02.677Z"
      },
      {
        "duration": 46,
        "start_time": "2023-04-05T08:34:02.694Z"
      },
      {
        "duration": 27,
        "start_time": "2023-04-05T08:34:02.742Z"
      },
      {
        "duration": 26,
        "start_time": "2023-04-05T08:34:02.771Z"
      },
      {
        "duration": 59,
        "start_time": "2023-04-05T08:34:02.799Z"
      },
      {
        "duration": 43,
        "start_time": "2023-04-05T08:34:02.859Z"
      },
      {
        "duration": 27,
        "start_time": "2023-04-05T08:34:02.904Z"
      },
      {
        "duration": 75,
        "start_time": "2023-04-05T08:34:02.933Z"
      },
      {
        "duration": 10,
        "start_time": "2023-04-05T08:34:03.010Z"
      },
      {
        "duration": 19,
        "start_time": "2023-04-05T08:34:03.022Z"
      },
      {
        "duration": 22,
        "start_time": "2023-04-05T08:34:03.046Z"
      },
      {
        "duration": 48,
        "start_time": "2023-04-05T08:34:03.070Z"
      },
      {
        "duration": 41,
        "start_time": "2023-04-05T08:34:03.120Z"
      },
      {
        "duration": 83,
        "start_time": "2023-04-05T08:34:03.162Z"
      },
      {
        "duration": 36,
        "start_time": "2023-04-05T08:34:03.247Z"
      },
      {
        "duration": 35,
        "start_time": "2023-04-05T08:34:03.285Z"
      },
      {
        "duration": 7,
        "start_time": "2023-04-05T08:34:03.321Z"
      },
      {
        "duration": 14,
        "start_time": "2023-04-05T08:34:03.330Z"
      },
      {
        "duration": 26,
        "start_time": "2023-04-05T08:34:03.345Z"
      },
      {
        "duration": 39,
        "start_time": "2023-04-05T08:34:03.373Z"
      },
      {
        "duration": 22,
        "start_time": "2023-04-05T08:34:03.415Z"
      },
      {
        "duration": 25,
        "start_time": "2023-04-05T08:34:03.439Z"
      },
      {
        "duration": 24,
        "start_time": "2023-04-05T08:34:03.466Z"
      },
      {
        "duration": 39,
        "start_time": "2023-04-05T08:34:03.492Z"
      },
      {
        "duration": 1096,
        "start_time": "2023-04-05T08:34:57.808Z"
      },
      {
        "duration": 435,
        "start_time": "2023-04-05T08:34:58.906Z"
      },
      {
        "duration": 13,
        "start_time": "2023-04-05T08:34:59.343Z"
      },
      {
        "duration": 38,
        "start_time": "2023-04-05T08:34:59.359Z"
      },
      {
        "duration": 7,
        "start_time": "2023-04-05T08:34:59.399Z"
      },
      {
        "duration": 175,
        "start_time": "2023-04-05T08:34:59.408Z"
      },
      {
        "duration": 5,
        "start_time": "2023-04-05T08:34:59.585Z"
      },
      {
        "duration": 38,
        "start_time": "2023-04-05T08:34:59.592Z"
      },
      {
        "duration": 93,
        "start_time": "2023-04-05T08:34:59.632Z"
      },
      {
        "duration": 81,
        "start_time": "2023-04-05T08:34:59.728Z"
      },
      {
        "duration": 18,
        "start_time": "2023-04-05T08:34:59.811Z"
      },
      {
        "duration": 53,
        "start_time": "2023-04-05T08:34:59.831Z"
      },
      {
        "duration": 36,
        "start_time": "2023-04-05T08:34:59.886Z"
      },
      {
        "duration": 48,
        "start_time": "2023-04-05T08:34:59.924Z"
      },
      {
        "duration": 24,
        "start_time": "2023-04-05T08:34:59.974Z"
      },
      {
        "duration": 46,
        "start_time": "2023-04-05T08:35:00.000Z"
      },
      {
        "duration": 286,
        "start_time": "2023-04-05T08:35:00.048Z"
      },
      {
        "duration": 13,
        "start_time": "2023-04-05T08:35:00.336Z"
      },
      {
        "duration": 45,
        "start_time": "2023-04-05T08:35:00.350Z"
      },
      {
        "duration": 48,
        "start_time": "2023-04-05T08:35:00.397Z"
      },
      {
        "duration": 12,
        "start_time": "2023-04-05T08:35:00.447Z"
      },
      {
        "duration": 76,
        "start_time": "2023-04-05T08:35:00.461Z"
      },
      {
        "duration": 100,
        "start_time": "2023-04-05T08:35:00.539Z"
      },
      {
        "duration": 24,
        "start_time": "2023-04-05T08:35:00.641Z"
      },
      {
        "duration": 131,
        "start_time": "2023-04-05T08:35:00.666Z"
      },
      {
        "duration": 14,
        "start_time": "2023-04-05T08:35:00.799Z"
      },
      {
        "duration": 63,
        "start_time": "2023-04-05T08:35:00.815Z"
      },
      {
        "duration": 197,
        "start_time": "2023-04-05T08:35:00.882Z"
      },
      {
        "duration": 47,
        "start_time": "2023-04-05T08:35:01.081Z"
      },
      {
        "duration": 168,
        "start_time": "2023-04-05T08:35:01.129Z"
      },
      {
        "duration": 76,
        "start_time": "2023-04-05T08:35:01.299Z"
      },
      {
        "duration": 76,
        "start_time": "2023-04-05T08:35:01.377Z"
      },
      {
        "duration": 77,
        "start_time": "2023-04-05T08:35:01.455Z"
      },
      {
        "duration": 68,
        "start_time": "2023-04-05T08:35:01.533Z"
      },
      {
        "duration": 34,
        "start_time": "2023-04-05T08:35:01.603Z"
      },
      {
        "duration": 66,
        "start_time": "2023-04-05T08:35:01.638Z"
      },
      {
        "duration": 62,
        "start_time": "2023-04-05T08:35:01.706Z"
      },
      {
        "duration": 42,
        "start_time": "2023-04-05T08:35:01.770Z"
      },
      {
        "duration": 44,
        "start_time": "2023-04-05T08:35:01.814Z"
      },
      {
        "duration": 35,
        "start_time": "2023-04-05T08:35:01.860Z"
      },
      {
        "duration": 44,
        "start_time": "2023-04-05T08:35:01.897Z"
      },
      {
        "duration": 3,
        "start_time": "2023-04-05T08:35:39.902Z"
      },
      {
        "duration": 364,
        "start_time": "2023-04-05T08:35:39.907Z"
      },
      {
        "duration": 13,
        "start_time": "2023-04-05T08:35:40.273Z"
      },
      {
        "duration": 59,
        "start_time": "2023-04-05T08:35:40.290Z"
      },
      {
        "duration": 19,
        "start_time": "2023-04-05T08:35:40.350Z"
      },
      {
        "duration": 151,
        "start_time": "2023-04-05T08:35:40.371Z"
      },
      {
        "duration": 3,
        "start_time": "2023-04-05T08:35:40.524Z"
      },
      {
        "duration": 30,
        "start_time": "2023-04-05T08:35:40.529Z"
      },
      {
        "duration": 64,
        "start_time": "2023-04-05T08:35:40.562Z"
      },
      {
        "duration": 74,
        "start_time": "2023-04-05T08:35:40.628Z"
      },
      {
        "duration": 24,
        "start_time": "2023-04-05T08:35:40.704Z"
      },
      {
        "duration": 16,
        "start_time": "2023-04-05T08:35:40.729Z"
      },
      {
        "duration": 39,
        "start_time": "2023-04-05T08:35:40.747Z"
      },
      {
        "duration": 39,
        "start_time": "2023-04-05T08:35:40.788Z"
      },
      {
        "duration": 9,
        "start_time": "2023-04-05T08:35:40.829Z"
      },
      {
        "duration": 26,
        "start_time": "2023-04-05T08:35:40.840Z"
      },
      {
        "duration": 209,
        "start_time": "2023-04-05T08:35:40.867Z"
      },
      {
        "duration": 14,
        "start_time": "2023-04-05T08:35:41.083Z"
      },
      {
        "duration": 47,
        "start_time": "2023-04-05T08:35:41.100Z"
      },
      {
        "duration": 38,
        "start_time": "2023-04-05T08:35:41.149Z"
      },
      {
        "duration": 13,
        "start_time": "2023-04-05T08:35:41.189Z"
      },
      {
        "duration": 37,
        "start_time": "2023-04-05T08:35:41.204Z"
      },
      {
        "duration": 50,
        "start_time": "2023-04-05T08:35:41.243Z"
      },
      {
        "duration": 27,
        "start_time": "2023-04-05T08:35:41.296Z"
      },
      {
        "duration": 68,
        "start_time": "2023-04-05T08:35:41.325Z"
      },
      {
        "duration": 11,
        "start_time": "2023-04-05T08:35:41.396Z"
      },
      {
        "duration": 27,
        "start_time": "2023-04-05T08:35:41.410Z"
      },
      {
        "duration": 14,
        "start_time": "2023-04-05T08:35:41.439Z"
      },
      {
        "duration": 50,
        "start_time": "2023-04-05T08:35:41.455Z"
      },
      {
        "duration": 40,
        "start_time": "2023-04-05T08:35:41.507Z"
      },
      {
        "duration": 83,
        "start_time": "2023-04-05T08:35:41.549Z"
      },
      {
        "duration": 29,
        "start_time": "2023-04-05T08:35:41.634Z"
      },
      {
        "duration": 33,
        "start_time": "2023-04-05T08:35:41.664Z"
      },
      {
        "duration": 15,
        "start_time": "2023-04-05T08:35:41.699Z"
      },
      {
        "duration": 15,
        "start_time": "2023-04-05T08:35:41.715Z"
      },
      {
        "duration": 18,
        "start_time": "2023-04-05T08:35:41.732Z"
      },
      {
        "duration": 33,
        "start_time": "2023-04-05T08:35:41.751Z"
      },
      {
        "duration": 24,
        "start_time": "2023-04-05T08:35:41.786Z"
      },
      {
        "duration": 29,
        "start_time": "2023-04-05T08:35:41.812Z"
      },
      {
        "duration": 42,
        "start_time": "2023-04-05T08:35:41.842Z"
      },
      {
        "duration": 22,
        "start_time": "2023-04-05T08:35:41.885Z"
      },
      {
        "duration": 10,
        "start_time": "2023-04-05T08:36:44.531Z"
      },
      {
        "duration": 105,
        "start_time": "2023-04-05T08:37:15.961Z"
      },
      {
        "duration": 9,
        "start_time": "2023-04-05T08:37:27.316Z"
      },
      {
        "duration": 17,
        "start_time": "2023-04-05T08:40:08.126Z"
      },
      {
        "duration": 18,
        "start_time": "2023-04-05T08:40:25.112Z"
      },
      {
        "duration": 121,
        "start_time": "2023-04-05T08:40:41.914Z"
      },
      {
        "duration": 205,
        "start_time": "2023-04-05T08:40:49.733Z"
      },
      {
        "duration": 19,
        "start_time": "2023-04-05T08:41:04.282Z"
      },
      {
        "duration": 13,
        "start_time": "2023-04-05T08:41:26.609Z"
      },
      {
        "duration": 14,
        "start_time": "2023-04-05T08:42:02.393Z"
      },
      {
        "duration": 125,
        "start_time": "2023-04-05T08:42:06.757Z"
      },
      {
        "duration": 12,
        "start_time": "2023-04-05T08:42:19.716Z"
      },
      {
        "duration": 18,
        "start_time": "2023-04-05T08:45:37.888Z"
      },
      {
        "duration": 13,
        "start_time": "2023-04-05T08:50:00.608Z"
      },
      {
        "duration": 3,
        "start_time": "2023-04-05T08:51:37.864Z"
      },
      {
        "duration": 436,
        "start_time": "2023-04-05T08:51:37.869Z"
      },
      {
        "duration": 7,
        "start_time": "2023-04-05T08:51:38.307Z"
      },
      {
        "duration": 27,
        "start_time": "2023-04-05T08:51:38.316Z"
      },
      {
        "duration": 3,
        "start_time": "2023-04-05T08:51:38.346Z"
      },
      {
        "duration": 138,
        "start_time": "2023-04-05T08:51:38.351Z"
      },
      {
        "duration": 2,
        "start_time": "2023-04-05T08:51:38.491Z"
      },
      {
        "duration": 42,
        "start_time": "2023-04-05T08:51:38.495Z"
      },
      {
        "duration": 84,
        "start_time": "2023-04-05T08:51:38.539Z"
      },
      {
        "duration": 67,
        "start_time": "2023-04-05T08:51:38.625Z"
      },
      {
        "duration": 16,
        "start_time": "2023-04-05T08:51:38.694Z"
      },
      {
        "duration": 23,
        "start_time": "2023-04-05T08:51:38.712Z"
      },
      {
        "duration": 24,
        "start_time": "2023-04-05T08:51:38.736Z"
      },
      {
        "duration": 46,
        "start_time": "2023-04-05T08:51:38.783Z"
      },
      {
        "duration": 15,
        "start_time": "2023-04-05T08:51:38.831Z"
      },
      {
        "duration": 21,
        "start_time": "2023-04-05T08:51:38.848Z"
      },
      {
        "duration": 209,
        "start_time": "2023-04-05T08:51:38.871Z"
      },
      {
        "duration": 21,
        "start_time": "2023-04-05T08:51:39.084Z"
      },
      {
        "duration": 37,
        "start_time": "2023-04-05T08:51:39.107Z"
      },
      {
        "duration": 20,
        "start_time": "2023-04-05T08:51:39.146Z"
      },
      {
        "duration": 21,
        "start_time": "2023-04-05T08:51:39.168Z"
      },
      {
        "duration": 41,
        "start_time": "2023-04-05T08:51:39.191Z"
      },
      {
        "duration": 52,
        "start_time": "2023-04-05T08:51:39.234Z"
      },
      {
        "duration": 26,
        "start_time": "2023-04-05T08:51:39.288Z"
      },
      {
        "duration": 85,
        "start_time": "2023-04-05T08:51:39.316Z"
      },
      {
        "duration": 13,
        "start_time": "2023-04-05T08:51:39.403Z"
      },
      {
        "duration": 26,
        "start_time": "2023-04-05T08:51:39.418Z"
      },
      {
        "duration": 57,
        "start_time": "2023-04-05T08:51:39.446Z"
      },
      {
        "duration": 36,
        "start_time": "2023-04-05T08:51:39.505Z"
      },
      {
        "duration": 104,
        "start_time": "2023-04-05T08:51:39.543Z"
      },
      {
        "duration": 28,
        "start_time": "2023-04-05T08:51:39.650Z"
      },
      {
        "duration": 33,
        "start_time": "2023-04-05T08:51:39.680Z"
      },
      {
        "duration": 53,
        "start_time": "2023-04-05T08:51:39.715Z"
      },
      {
        "duration": 76,
        "start_time": "2023-04-05T08:51:39.771Z"
      },
      {
        "duration": 100,
        "start_time": "2023-04-05T08:51:39.849Z"
      },
      {
        "duration": 56,
        "start_time": "2023-04-05T08:51:39.951Z"
      },
      {
        "duration": 68,
        "start_time": "2023-04-05T08:51:40.010Z"
      },
      {
        "duration": 21,
        "start_time": "2023-04-05T08:51:40.080Z"
      },
      {
        "duration": 18,
        "start_time": "2023-04-05T08:51:40.103Z"
      },
      {
        "duration": 32,
        "start_time": "2023-04-05T08:51:40.123Z"
      },
      {
        "duration": 82,
        "start_time": "2023-04-05T08:52:57.891Z"
      },
      {
        "duration": 4,
        "start_time": "2023-04-05T08:55:18.872Z"
      },
      {
        "duration": 369,
        "start_time": "2023-04-05T08:55:18.878Z"
      },
      {
        "duration": 10,
        "start_time": "2023-04-05T08:55:19.249Z"
      },
      {
        "duration": 43,
        "start_time": "2023-04-05T08:55:19.263Z"
      },
      {
        "duration": 3,
        "start_time": "2023-04-05T08:55:19.309Z"
      },
      {
        "duration": 149,
        "start_time": "2023-04-05T08:55:19.314Z"
      },
      {
        "duration": 2,
        "start_time": "2023-04-05T08:55:19.465Z"
      },
      {
        "duration": 60,
        "start_time": "2023-04-05T08:55:19.469Z"
      },
      {
        "duration": 88,
        "start_time": "2023-04-05T08:55:19.531Z"
      },
      {
        "duration": 89,
        "start_time": "2023-04-05T08:55:19.623Z"
      },
      {
        "duration": 18,
        "start_time": "2023-04-05T08:55:19.713Z"
      },
      {
        "duration": 38,
        "start_time": "2023-04-05T08:55:19.733Z"
      },
      {
        "duration": 47,
        "start_time": "2023-04-05T08:55:19.773Z"
      },
      {
        "duration": 68,
        "start_time": "2023-04-05T08:55:19.823Z"
      },
      {
        "duration": 27,
        "start_time": "2023-04-05T08:55:19.892Z"
      },
      {
        "duration": 34,
        "start_time": "2023-04-05T08:55:19.920Z"
      },
      {
        "duration": 256,
        "start_time": "2023-04-05T08:55:19.956Z"
      },
      {
        "duration": 30,
        "start_time": "2023-04-05T08:55:20.214Z"
      },
      {
        "duration": 34,
        "start_time": "2023-04-05T08:55:20.251Z"
      },
      {
        "duration": 42,
        "start_time": "2023-04-05T08:55:20.286Z"
      },
      {
        "duration": 14,
        "start_time": "2023-04-05T08:55:20.330Z"
      },
      {
        "duration": 58,
        "start_time": "2023-04-05T08:55:20.345Z"
      },
      {
        "duration": 54,
        "start_time": "2023-04-05T08:55:20.405Z"
      },
      {
        "duration": 33,
        "start_time": "2023-04-05T08:55:20.461Z"
      },
      {
        "duration": 114,
        "start_time": "2023-04-05T08:55:20.495Z"
      },
      {
        "duration": 12,
        "start_time": "2023-04-05T08:55:20.611Z"
      },
      {
        "duration": 54,
        "start_time": "2023-04-05T08:55:20.625Z"
      },
      {
        "duration": 64,
        "start_time": "2023-04-05T08:55:20.684Z"
      },
      {
        "duration": 75,
        "start_time": "2023-04-05T08:55:20.750Z"
      },
      {
        "duration": 105,
        "start_time": "2023-04-05T08:55:20.828Z"
      },
      {
        "duration": 49,
        "start_time": "2023-04-05T08:55:20.935Z"
      },
      {
        "duration": 38,
        "start_time": "2023-04-05T08:55:20.986Z"
      },
      {
        "duration": 11,
        "start_time": "2023-04-05T08:55:21.028Z"
      },
      {
        "duration": 12,
        "start_time": "2023-04-05T08:55:21.042Z"
      },
      {
        "duration": 23,
        "start_time": "2023-04-05T08:55:21.057Z"
      },
      {
        "duration": 23,
        "start_time": "2023-04-05T08:55:21.082Z"
      },
      {
        "duration": 25,
        "start_time": "2023-04-05T08:55:21.107Z"
      },
      {
        "duration": 22,
        "start_time": "2023-04-05T08:55:21.133Z"
      },
      {
        "duration": 36,
        "start_time": "2023-04-05T08:55:21.157Z"
      },
      {
        "duration": 32,
        "start_time": "2023-04-05T08:55:21.195Z"
      },
      {
        "duration": 1328,
        "start_time": "2023-04-05T09:48:42.768Z"
      },
      {
        "duration": 385,
        "start_time": "2023-04-05T09:48:44.098Z"
      },
      {
        "duration": 13,
        "start_time": "2023-04-05T09:48:44.485Z"
      },
      {
        "duration": 35,
        "start_time": "2023-04-05T09:48:44.500Z"
      },
      {
        "duration": 15,
        "start_time": "2023-04-05T09:48:44.543Z"
      },
      {
        "duration": 170,
        "start_time": "2023-04-05T09:48:44.560Z"
      },
      {
        "duration": 14,
        "start_time": "2023-04-05T09:48:44.732Z"
      },
      {
        "duration": 34,
        "start_time": "2023-04-05T09:48:44.753Z"
      },
      {
        "duration": 80,
        "start_time": "2023-04-05T09:48:44.789Z"
      },
      {
        "duration": 94,
        "start_time": "2023-04-05T09:48:44.871Z"
      },
      {
        "duration": 18,
        "start_time": "2023-04-05T09:48:44.967Z"
      },
      {
        "duration": 26,
        "start_time": "2023-04-05T09:48:44.988Z"
      },
      {
        "duration": 66,
        "start_time": "2023-04-05T09:48:45.016Z"
      },
      {
        "duration": 40,
        "start_time": "2023-04-05T09:48:45.085Z"
      },
      {
        "duration": 25,
        "start_time": "2023-04-05T09:48:45.127Z"
      },
      {
        "duration": 22,
        "start_time": "2023-04-05T09:48:45.159Z"
      },
      {
        "duration": 299,
        "start_time": "2023-04-05T09:48:45.183Z"
      },
      {
        "duration": 13,
        "start_time": "2023-04-05T09:48:45.484Z"
      },
      {
        "duration": 57,
        "start_time": "2023-04-05T09:48:45.499Z"
      },
      {
        "duration": 19,
        "start_time": "2023-04-05T09:48:45.558Z"
      },
      {
        "duration": 14,
        "start_time": "2023-04-05T09:48:45.579Z"
      },
      {
        "duration": 58,
        "start_time": "2023-04-05T09:48:45.595Z"
      },
      {
        "duration": 43,
        "start_time": "2023-04-05T09:48:45.655Z"
      },
      {
        "duration": 25,
        "start_time": "2023-04-05T09:48:45.700Z"
      },
      {
        "duration": 92,
        "start_time": "2023-04-05T09:48:45.727Z"
      },
      {
        "duration": 11,
        "start_time": "2023-04-05T09:48:45.821Z"
      },
      {
        "duration": 372,
        "start_time": "2023-04-05T09:48:45.840Z"
      },
      {
        "duration": 66,
        "start_time": "2023-04-05T09:48:46.214Z"
      },
      {
        "duration": 96,
        "start_time": "2023-04-05T09:48:46.282Z"
      },
      {
        "duration": 115,
        "start_time": "2023-04-05T09:48:46.379Z"
      },
      {
        "duration": 31,
        "start_time": "2023-04-05T09:48:46.496Z"
      },
      {
        "duration": 43,
        "start_time": "2023-04-05T09:48:46.529Z"
      },
      {
        "duration": 43,
        "start_time": "2023-04-05T09:48:46.573Z"
      },
      {
        "duration": 18,
        "start_time": "2023-04-05T09:48:46.618Z"
      },
      {
        "duration": 35,
        "start_time": "2023-04-05T09:48:46.638Z"
      },
      {
        "duration": 35,
        "start_time": "2023-04-05T09:48:46.676Z"
      },
      {
        "duration": 18,
        "start_time": "2023-04-05T09:48:46.713Z"
      },
      {
        "duration": 26,
        "start_time": "2023-04-05T09:48:46.733Z"
      },
      {
        "duration": 45,
        "start_time": "2023-04-05T09:48:46.761Z"
      },
      {
        "duration": 28,
        "start_time": "2023-04-05T09:48:46.808Z"
      },
      {
        "duration": 9,
        "start_time": "2023-04-05T09:57:55.732Z"
      },
      {
        "duration": 10,
        "start_time": "2023-04-05T09:58:01.283Z"
      },
      {
        "duration": 2086,
        "start_time": "2023-05-30T12:18:21.919Z"
      },
      {
        "duration": 1422,
        "start_time": "2023-05-30T12:18:24.011Z"
      },
      {
        "duration": 27,
        "start_time": "2023-05-30T12:18:25.451Z"
      },
      {
        "duration": 216,
        "start_time": "2023-05-30T12:18:25.480Z"
      },
      {
        "duration": 53,
        "start_time": "2023-05-30T12:18:25.699Z"
      },
      {
        "duration": 381,
        "start_time": "2023-05-30T12:18:25.761Z"
      },
      {
        "duration": 21,
        "start_time": "2023-05-30T12:18:26.146Z"
      },
      {
        "duration": 205,
        "start_time": "2023-05-30T12:18:26.173Z"
      },
      {
        "duration": 130,
        "start_time": "2023-05-30T12:18:26.381Z"
      },
      {
        "duration": 182,
        "start_time": "2023-05-30T12:18:26.513Z"
      },
      {
        "duration": 37,
        "start_time": "2023-05-30T12:18:26.705Z"
      },
      {
        "duration": 98,
        "start_time": "2023-05-30T12:18:26.744Z"
      },
      {
        "duration": 78,
        "start_time": "2023-05-30T12:18:26.844Z"
      },
      {
        "duration": 93,
        "start_time": "2023-05-30T12:18:26.934Z"
      },
      {
        "duration": 78,
        "start_time": "2023-05-30T12:18:27.032Z"
      },
      {
        "duration": 120,
        "start_time": "2023-05-30T12:18:27.121Z"
      },
      {
        "duration": 485,
        "start_time": "2023-05-30T12:18:27.244Z"
      },
      {
        "duration": 20,
        "start_time": "2023-05-30T12:18:27.730Z"
      },
      {
        "duration": 80,
        "start_time": "2023-05-30T12:18:27.755Z"
      },
      {
        "duration": 88,
        "start_time": "2023-05-30T12:18:27.839Z"
      },
      {
        "duration": 155,
        "start_time": "2023-05-30T12:18:27.931Z"
      },
      {
        "duration": 125,
        "start_time": "2023-05-30T12:18:28.099Z"
      },
      {
        "duration": 96,
        "start_time": "2023-05-30T12:18:28.228Z"
      },
      {
        "duration": 69,
        "start_time": "2023-05-30T12:18:28.332Z"
      },
      {
        "duration": 300,
        "start_time": "2023-05-30T12:18:28.408Z"
      },
      {
        "duration": 45,
        "start_time": "2023-05-30T12:18:28.714Z"
      },
      {
        "duration": 452,
        "start_time": "2023-05-30T12:18:28.764Z"
      },
      {
        "duration": 82,
        "start_time": "2023-05-30T12:18:29.223Z"
      },
      {
        "duration": 130,
        "start_time": "2023-05-30T12:18:29.307Z"
      },
      {
        "duration": 223,
        "start_time": "2023-05-30T12:18:29.439Z"
      },
      {
        "duration": 67,
        "start_time": "2023-05-30T12:18:29.669Z"
      },
      {
        "duration": 63,
        "start_time": "2023-05-30T12:18:29.739Z"
      },
      {
        "duration": 182,
        "start_time": "2023-05-30T12:18:29.804Z"
      },
      {
        "duration": 88,
        "start_time": "2023-05-30T12:18:29.991Z"
      },
      {
        "duration": 119,
        "start_time": "2023-05-30T12:18:30.084Z"
      },
      {
        "duration": 108,
        "start_time": "2023-05-30T12:18:30.208Z"
      },
      {
        "duration": 133,
        "start_time": "2023-05-30T12:18:30.317Z"
      },
      {
        "duration": 107,
        "start_time": "2023-05-30T12:18:30.455Z"
      },
      {
        "duration": 129,
        "start_time": "2023-05-30T12:18:30.566Z"
      },
      {
        "duration": 126,
        "start_time": "2023-05-30T12:18:30.700Z"
      }
    ],
    "colab": {
      "provenance": []
    },
    "kernelspec": {
      "display_name": "Python 3 (ipykernel)",
      "language": "python",
      "name": "python3"
    },
    "language_info": {
      "codemirror_mode": {
        "name": "ipython",
        "version": 3
      },
      "file_extension": ".py",
      "mimetype": "text/x-python",
      "name": "python",
      "nbconvert_exporter": "python",
      "pygments_lexer": "ipython3",
      "version": "3.9.5"
    },
    "toc": {
      "base_numbering": 1,
      "nav_menu": {},
      "number_sections": true,
      "sideBar": true,
      "skip_h1_title": true,
      "title_cell": "Table of Contents",
      "title_sidebar": "Contents",
      "toc_cell": false,
      "toc_position": {},
      "toc_section_display": true,
      "toc_window_display": false
    }
  },
  "nbformat": 4,
  "nbformat_minor": 0
}